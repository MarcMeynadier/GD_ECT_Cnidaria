{
 "cells": [
  {
   "cell_type": "code",
   "execution_count": 1,
   "metadata": {},
   "outputs": [],
   "source": [
    "%matplotlib inline\n",
    "import matplotlib.pyplot as plt\n",
    "\n",
    "# Standard library packages\n",
    "import os\n",
    "\n",
    "# Import Numpy, Pandas and Seaborn\n",
    "import numpy as np\n",
    "import pandas as pd\n",
    "import seaborn as sns\n",
    "\n",
    "# Import biopython tools for running local BLASTX\n",
    "from Bio.Blast.Applications import NcbiblastpCommandline\n",
    "\n",
    "# Colour scale transformation\n",
    "from matplotlib.colors import LogNorm"
   ]
  },
  {
   "cell_type": "code",
   "execution_count": 2,
   "metadata": {},
   "outputs": [],
   "source": [
    "# Define input and output directories\n",
    "with open(\"speciesList.txt\") as f:\n",
    "        speciesList = [x.rstrip() for x in f]\n",
    "speciesStr = '_'.join(speciesList)\n",
    "rPath = os.getcwd()\n",
    "s1 = rPath+'/../../../../species/'+speciesList[0]+'/raw/longest_isoform_'+speciesList[0]+'Proteins.fasta'\n",
    "s2 = rPath+'/../../../../species/'+speciesList[1]+'/raw/'+speciesList[1]+'Proteins.fasta'\n",
    "outdir = rPath+'/../../../../species/crossSpecies/'+speciesStr+'/RBH/'\n",
    "os.makedirs(outdir, exist_ok=True)\n",
    "# Define output BLAST results\n",
    "fwd_out = os.path.join(outdir, '05-fwd-results.tab')\n",
    "rev_out = os.path.join(outdir, '05-rev-results.tab')"
   ]
  },
  {
   "cell_type": "code",
   "execution_count": 3,
   "metadata": {},
   "outputs": [
    {
     "name": "stdout",
     "output_type": "stream",
     "text": [
      "FORWARD: /Users/mmeynadier/Documents/PhD/scripts/tools/ncbi-blast/bin/blastp -out /Users/mmeynadier/Documents/PhD/scripts/GD_ECT_Cnidaria/py_scripts/miscellaneous/../../../../species/crossSpecies/Aiptasia_Hydractinia/RBH/05-fwd-results.tab -outfmt \"6 qseqid sseqid pident qcovs qlen slen length bitscore evalue\" -query /Users/mmeynadier/Documents/PhD/scripts/GD_ECT_Cnidaria/py_scripts/miscellaneous/../../../../species/Aiptasia/raw/longest_isoform_AiptasiaProteins.fasta -max_target_seqs 1 -subject /Users/mmeynadier/Documents/PhD/scripts/GD_ECT_Cnidaria/py_scripts/miscellaneous/../../../../species/Hydractinia/raw/HydractiniaProteins.fasta\n",
      "REVERSE: /Users/mmeynadier/Documents/PhD/scripts/tools/ncbi-blast/bin/blastp -out /Users/mmeynadier/Documents/PhD/scripts/GD_ECT_Cnidaria/py_scripts/miscellaneous/../../../../species/crossSpecies/Aiptasia_Hydractinia/RBH/05-rev-results.tab -outfmt \"6 qseqid sseqid pident qcovs qlen slen length bitscore evalue\" -query /Users/mmeynadier/Documents/PhD/scripts/GD_ECT_Cnidaria/py_scripts/miscellaneous/../../../../species/Hydractinia/raw/HydractiniaProteins.fasta -max_target_seqs 1 -subject /Users/mmeynadier/Documents/PhD/scripts/GD_ECT_Cnidaria/py_scripts/miscellaneous/../../../../species/Aiptasia/raw/longest_isoform_AiptasiaProteins.fasta\n"
     ]
    }
   ],
   "source": [
    "# Create BLAST command-lines for forward and reverse BLAST searches\n",
    "blastp='/Users/mmeynadier/Documents/PhD/scripts/tools/ncbi-blast/bin/blastp'\n",
    "fwd_blastp = NcbiblastpCommandline(cmd=blastp,query=s1, subject=s2, out=fwd_out,\n",
    "                                   outfmt=\"6 qseqid sseqid pident qcovs qlen slen length bitscore evalue\",\n",
    "                                   max_target_seqs=1)\n",
    "rev_blastp = NcbiblastpCommandline(cmd=blastp,query=s2, subject=s1, out=rev_out,\n",
    "                                   outfmt=\"6 qseqid sseqid pident qcovs qlen slen length bitscore evalue\",\n",
    "                                   max_target_seqs=1)\n",
    "\n",
    "# Inspect command-lines\n",
    "print(\"FORWARD: %s\" % fwd_blastp)\n",
    "print(\"REVERSE: %s\" % rev_blastp)"
   ]
  },
  {
   "cell_type": "code",
   "execution_count": 4,
   "metadata": {},
   "outputs": [
    {
     "name": "stdout",
     "output_type": "stream",
     "text": [
      "FWD STDOUT: \n",
      "FWD STDERR: Warning: [blastp] Examining 5 or more matches is recommended\n",
      "\n",
      "REV STDOUT: \n",
      "REV STDERR: Warning: [blastp] Examining 5 or more matches is recommended\n",
      "\n"
     ]
    }
   ],
   "source": [
    "# Run BLAST searches\n",
    "fwd_stdout, fwd_stderr = fwd_blastp()\n",
    "rev_stdout, rev_stderr = rev_blastp()\n",
    "\n",
    "# Check STDOUT, STDERR\n",
    "print(\"FWD STDOUT: %s\" % fwd_stdout)\n",
    "print(\"FWD STDERR: %s\" % fwd_stderr)\n",
    "print(\"REV STDOUT: %s\" % rev_stdout)\n",
    "print(\"REV STDERR: %s\" % rev_stderr)"
   ]
  },
  {
   "cell_type": "code",
   "execution_count": 5,
   "metadata": {},
   "outputs": [],
   "source": [
    "# Load the BLAST results into Pandas dataframes\n",
    "fwd_results = pd.read_csv(fwd_out, sep=\"\\t\", header=None)\n",
    "rev_results = pd.read_csv(rev_out, sep=\"\\t\", header=None)\n",
    "\n",
    "# Add headers to forward and reverse results dataframes\n",
    "headers = [\"query\", \"subject\", \"identity\", \"coverage\",\n",
    "           \"qlength\", \"slength\", \"alength\",\n",
    "           \"bitscore\", \"E-value\"]\n",
    "fwd_results.columns = headers\n",
    "rev_results.columns = headers"
   ]
  },
  {
   "cell_type": "code",
   "execution_count": 6,
   "metadata": {},
   "outputs": [],
   "source": [
    "# Create a new column in both dataframes: normalised bitscore\n",
    "fwd_results['norm_bitscore'] = fwd_results.bitscore/fwd_results.qlength\n",
    "rev_results['norm_bitscore'] = rev_results.bitscore/rev_results.qlength\n",
    "\n",
    "# Create query and subject coverage columns in both dataframes\n",
    "fwd_results['qcov'] = fwd_results.alength/fwd_results.qlength\n",
    "rev_results['qcov'] = rev_results.alength/rev_results.qlength\n",
    "fwd_results['scov'] = fwd_results.alength/fwd_results.slength\n",
    "rev_results['scov'] = rev_results.alength/rev_results.slength\n",
    "\n",
    "# Clip maximum coverage values at 1.0\n",
    "fwd_results['qcov'] = fwd_results['qcov'].clip(upper=1)\n",
    "rev_results['qcov'] = rev_results['qcov'].clip(upper=1)\n",
    "fwd_results['scov'] = fwd_results['scov'].clip(upper=1)\n",
    "rev_results['scov'] = rev_results['scov'].clip(upper=1)"
   ]
  },
  {
   "cell_type": "code",
   "execution_count": 7,
   "metadata": {},
   "outputs": [
    {
     "data": {
      "text/html": [
       "<div>\n",
       "<style scoped>\n",
       "    .dataframe tbody tr th:only-of-type {\n",
       "        vertical-align: middle;\n",
       "    }\n",
       "\n",
       "    .dataframe tbody tr th {\n",
       "        vertical-align: top;\n",
       "    }\n",
       "\n",
       "    .dataframe thead th {\n",
       "        text-align: right;\n",
       "    }\n",
       "</style>\n",
       "<table border=\"1\" class=\"dataframe\">\n",
       "  <thead>\n",
       "    <tr style=\"text-align: right;\">\n",
       "      <th></th>\n",
       "      <th>query</th>\n",
       "      <th>subject</th>\n",
       "      <th>identity</th>\n",
       "      <th>coverage</th>\n",
       "      <th>qlength</th>\n",
       "      <th>slength</th>\n",
       "      <th>alength</th>\n",
       "      <th>bitscore</th>\n",
       "      <th>E-value</th>\n",
       "      <th>norm_bitscore</th>\n",
       "      <th>qcov</th>\n",
       "      <th>scov</th>\n",
       "    </tr>\n",
       "  </thead>\n",
       "  <tbody>\n",
       "    <tr>\n",
       "      <th>0</th>\n",
       "      <td>XP_020891793.1</td>\n",
       "      <td>HyS0002.10</td>\n",
       "      <td>27.358</td>\n",
       "      <td>58</td>\n",
       "      <td>176</td>\n",
       "      <td>2354</td>\n",
       "      <td>106</td>\n",
       "      <td>35.4</td>\n",
       "      <td>1.200000e-02</td>\n",
       "      <td>0.201136</td>\n",
       "      <td>0.602273</td>\n",
       "      <td>0.045030</td>\n",
       "    </tr>\n",
       "    <tr>\n",
       "      <th>1</th>\n",
       "      <td>XP_020891793.1</td>\n",
       "      <td>HyS0002.10</td>\n",
       "      <td>28.000</td>\n",
       "      <td>58</td>\n",
       "      <td>176</td>\n",
       "      <td>2354</td>\n",
       "      <td>50</td>\n",
       "      <td>26.6</td>\n",
       "      <td>9.800000e+00</td>\n",
       "      <td>0.151136</td>\n",
       "      <td>0.284091</td>\n",
       "      <td>0.021240</td>\n",
       "    </tr>\n",
       "    <tr>\n",
       "      <th>2</th>\n",
       "      <td>XP_020891794.1</td>\n",
       "      <td>HyS0102.45</td>\n",
       "      <td>54.331</td>\n",
       "      <td>71</td>\n",
       "      <td>179</td>\n",
       "      <td>163</td>\n",
       "      <td>127</td>\n",
       "      <td>142.0</td>\n",
       "      <td>6.990000e-44</td>\n",
       "      <td>0.793296</td>\n",
       "      <td>0.709497</td>\n",
       "      <td>0.779141</td>\n",
       "    </tr>\n",
       "    <tr>\n",
       "      <th>3</th>\n",
       "      <td>XP_020891796.1</td>\n",
       "      <td>HyS0054.90</td>\n",
       "      <td>62.000</td>\n",
       "      <td>20</td>\n",
       "      <td>488</td>\n",
       "      <td>483</td>\n",
       "      <td>100</td>\n",
       "      <td>144.0</td>\n",
       "      <td>5.920000e-38</td>\n",
       "      <td>0.295082</td>\n",
       "      <td>0.204918</td>\n",
       "      <td>0.207039</td>\n",
       "    </tr>\n",
       "    <tr>\n",
       "      <th>4</th>\n",
       "      <td>XP_020891799.1</td>\n",
       "      <td>HyS0048.57</td>\n",
       "      <td>25.210</td>\n",
       "      <td>19</td>\n",
       "      <td>578</td>\n",
       "      <td>11013</td>\n",
       "      <td>119</td>\n",
       "      <td>33.5</td>\n",
       "      <td>4.800000e-01</td>\n",
       "      <td>0.057958</td>\n",
       "      <td>0.205882</td>\n",
       "      <td>0.010805</td>\n",
       "    </tr>\n",
       "  </tbody>\n",
       "</table>\n",
       "</div>"
      ],
      "text/plain": [
       "            query     subject  identity  coverage  qlength  slength  alength  \\\n",
       "0  XP_020891793.1  HyS0002.10    27.358        58      176     2354      106   \n",
       "1  XP_020891793.1  HyS0002.10    28.000        58      176     2354       50   \n",
       "2  XP_020891794.1  HyS0102.45    54.331        71      179      163      127   \n",
       "3  XP_020891796.1  HyS0054.90    62.000        20      488      483      100   \n",
       "4  XP_020891799.1  HyS0048.57    25.210        19      578    11013      119   \n",
       "\n",
       "   bitscore       E-value  norm_bitscore      qcov      scov  \n",
       "0      35.4  1.200000e-02       0.201136  0.602273  0.045030  \n",
       "1      26.6  9.800000e+00       0.151136  0.284091  0.021240  \n",
       "2     142.0  6.990000e-44       0.793296  0.709497  0.779141  \n",
       "3     144.0  5.920000e-38       0.295082  0.204918  0.207039  \n",
       "4      33.5  4.800000e-01       0.057958  0.205882  0.010805  "
      ]
     },
     "execution_count": 7,
     "metadata": {},
     "output_type": "execute_result"
    }
   ],
   "source": [
    "# Inspect the forward results data\n",
    "fwd_results.head()"
   ]
  },
  {
   "cell_type": "code",
   "execution_count": 8,
   "metadata": {},
   "outputs": [
    {
     "data": {
      "text/html": [
       "<div>\n",
       "<style scoped>\n",
       "    .dataframe tbody tr th:only-of-type {\n",
       "        vertical-align: middle;\n",
       "    }\n",
       "\n",
       "    .dataframe tbody tr th {\n",
       "        vertical-align: top;\n",
       "    }\n",
       "\n",
       "    .dataframe thead th {\n",
       "        text-align: right;\n",
       "    }\n",
       "</style>\n",
       "<table border=\"1\" class=\"dataframe\">\n",
       "  <thead>\n",
       "    <tr style=\"text-align: right;\">\n",
       "      <th></th>\n",
       "      <th>query</th>\n",
       "      <th>subject</th>\n",
       "      <th>identity</th>\n",
       "      <th>coverage</th>\n",
       "      <th>qlength</th>\n",
       "      <th>slength</th>\n",
       "      <th>alength</th>\n",
       "      <th>bitscore</th>\n",
       "      <th>E-value</th>\n",
       "      <th>norm_bitscore</th>\n",
       "      <th>qcov</th>\n",
       "      <th>scov</th>\n",
       "    </tr>\n",
       "  </thead>\n",
       "  <tbody>\n",
       "    <tr>\n",
       "      <th>0</th>\n",
       "      <td>HyS0001.1</td>\n",
       "      <td>XP_020905405.1</td>\n",
       "      <td>38.793</td>\n",
       "      <td>96</td>\n",
       "      <td>115</td>\n",
       "      <td>280</td>\n",
       "      <td>116</td>\n",
       "      <td>64.7</td>\n",
       "      <td>1.560000e-13</td>\n",
       "      <td>0.562609</td>\n",
       "      <td>1.000000</td>\n",
       "      <td>0.414286</td>\n",
       "    </tr>\n",
       "    <tr>\n",
       "      <th>1</th>\n",
       "      <td>HyS0001.2</td>\n",
       "      <td>XP_020915632.1</td>\n",
       "      <td>27.083</td>\n",
       "      <td>50</td>\n",
       "      <td>169</td>\n",
       "      <td>3091</td>\n",
       "      <td>96</td>\n",
       "      <td>33.1</td>\n",
       "      <td>1.000000e-01</td>\n",
       "      <td>0.195858</td>\n",
       "      <td>0.568047</td>\n",
       "      <td>0.031058</td>\n",
       "    </tr>\n",
       "    <tr>\n",
       "      <th>2</th>\n",
       "      <td>HyS0001.3</td>\n",
       "      <td>XP_020896437.1</td>\n",
       "      <td>45.370</td>\n",
       "      <td>44</td>\n",
       "      <td>241</td>\n",
       "      <td>383</td>\n",
       "      <td>108</td>\n",
       "      <td>60.8</td>\n",
       "      <td>1.150000e-10</td>\n",
       "      <td>0.252282</td>\n",
       "      <td>0.448133</td>\n",
       "      <td>0.281984</td>\n",
       "    </tr>\n",
       "    <tr>\n",
       "      <th>3</th>\n",
       "      <td>HyS0001.4</td>\n",
       "      <td>XP_020896437.1</td>\n",
       "      <td>55.000</td>\n",
       "      <td>61</td>\n",
       "      <td>471</td>\n",
       "      <td>383</td>\n",
       "      <td>100</td>\n",
       "      <td>82.8</td>\n",
       "      <td>4.020000e-17</td>\n",
       "      <td>0.175796</td>\n",
       "      <td>0.212314</td>\n",
       "      <td>0.261097</td>\n",
       "    </tr>\n",
       "    <tr>\n",
       "      <th>4</th>\n",
       "      <td>HyS0001.4</td>\n",
       "      <td>XP_020896437.1</td>\n",
       "      <td>28.718</td>\n",
       "      <td>61</td>\n",
       "      <td>471</td>\n",
       "      <td>383</td>\n",
       "      <td>195</td>\n",
       "      <td>30.8</td>\n",
       "      <td>2.400000e+00</td>\n",
       "      <td>0.065393</td>\n",
       "      <td>0.414013</td>\n",
       "      <td>0.509138</td>\n",
       "    </tr>\n",
       "  </tbody>\n",
       "</table>\n",
       "</div>"
      ],
      "text/plain": [
       "       query         subject  identity  coverage  qlength  slength  alength  \\\n",
       "0  HyS0001.1  XP_020905405.1    38.793        96      115      280      116   \n",
       "1  HyS0001.2  XP_020915632.1    27.083        50      169     3091       96   \n",
       "2  HyS0001.3  XP_020896437.1    45.370        44      241      383      108   \n",
       "3  HyS0001.4  XP_020896437.1    55.000        61      471      383      100   \n",
       "4  HyS0001.4  XP_020896437.1    28.718        61      471      383      195   \n",
       "\n",
       "   bitscore       E-value  norm_bitscore      qcov      scov  \n",
       "0      64.7  1.560000e-13       0.562609  1.000000  0.414286  \n",
       "1      33.1  1.000000e-01       0.195858  0.568047  0.031058  \n",
       "2      60.8  1.150000e-10       0.252282  0.448133  0.281984  \n",
       "3      82.8  4.020000e-17       0.175796  0.212314  0.261097  \n",
       "4      30.8  2.400000e+00       0.065393  0.414013  0.509138  "
      ]
     },
     "execution_count": 8,
     "metadata": {},
     "output_type": "execute_result"
    }
   ],
   "source": [
    "# Inspect the reverse results data\n",
    "rev_results.head()"
   ]
  },
  {
   "cell_type": "code",
   "execution_count": 9,
   "metadata": {},
   "outputs": [
    {
     "name": "stderr",
     "output_type": "stream",
     "text": [
      "/var/folders/b3/5hwmrgld12d6x6qy5vcd3lh40000gq/T/ipykernel_23394/1257994760.py:6: UserWarning: \n",
      "\n",
      "`distplot` is a deprecated function and will be removed in seaborn v0.14.0.\n",
      "\n",
      "Please adapt your code to use either `displot` (a figure-level function with\n",
      "similar flexibility) or `histplot` (an axes-level function for histograms).\n",
      "\n",
      "For a guide to updating your code to use the new functions, please see\n",
      "https://gist.github.com/mwaskom/de44147ed2974457ad6372750bbe5751\n",
      "\n",
      "  sns.distplot(fwd_results.norm_bitscore, color=\"b\", ax=axes[0], axlabel=\"forward normalised bitscores\")\n",
      "/var/folders/b3/5hwmrgld12d6x6qy5vcd3lh40000gq/T/ipykernel_23394/1257994760.py:7: UserWarning: \n",
      "\n",
      "`distplot` is a deprecated function and will be removed in seaborn v0.14.0.\n",
      "\n",
      "Please adapt your code to use either `displot` (a figure-level function with\n",
      "similar flexibility) or `histplot` (an axes-level function for histograms).\n",
      "\n",
      "For a guide to updating your code to use the new functions, please see\n",
      "https://gist.github.com/mwaskom/de44147ed2974457ad6372750bbe5751\n",
      "\n",
      "  sns.distplot(rev_results.norm_bitscore, color=\"g\", ax=axes[1], axlabel=\"reverse normalised bitscores\")\n"
     ]
    },
    {
     "data": {
      "text/plain": [
       "<AxesSubplot: xlabel='reverse normalised bitscores', ylabel='Density'>"
      ]
     },
     "execution_count": 9,
     "metadata": {},
     "output_type": "execute_result"
    },
    {
     "data": {
      "image/png": "[encoded data removed]",
      "text/plain": [
       "<Figure size 1400x700 with 2 Axes>"
      ]
     },
     "metadata": {},
     "output_type": "display_data"
    }
   ],
   "source": [
    "# Set up the figure\n",
    "f, axes = plt.subplots(1, 2, figsize=(14, 7), sharex=True)\n",
    "sns.despine(left=True)\n",
    "\n",
    "# Plot distribution of forward and reverse hit bitscores\n",
    "sns.distplot(fwd_results.norm_bitscore, color=\"b\", ax=axes[0], axlabel=\"forward normalised bitscores\")\n",
    "sns.distplot(rev_results.norm_bitscore, color=\"g\", ax=axes[1], axlabel=\"reverse normalised bitscores\")"
   ]
  },
  {
   "cell_type": "code",
   "execution_count": 10,
   "metadata": {},
   "outputs": [
    {
     "data": {
      "text/plain": [
       "<matplotlib.colorbar.Colorbar at 0x7f88989fdaf0>"
      ]
     },
     "execution_count": 10,
     "metadata": {},
     "output_type": "execute_result"
    },
    {
     "data": {
      "image/png": "[encoded data removed]",
      "text/plain": [
       "<Figure size 1500x600 with 4 Axes>"
      ]
     },
     "metadata": {},
     "output_type": "display_data"
    }
   ],
   "source": [
    "# Plot 2D density histograms\n",
    "\n",
    "# Calculate 2D density histograms for counts of matches at several coverage levels\n",
    "(Hfwd, xedgesf, yedgesf) = np.histogram2d(fwd_results.qcov, fwd_results.scov, bins=20)\n",
    "(Hrev, xedgesr, yedgesr) = np.histogram2d(rev_results.qcov, rev_results.scov, bins=20)\n",
    "\n",
    "# Create a 1x2 figure array\n",
    "fig, axes = plt.subplots(1, 2, figsize=(15, 6), sharex=True, sharey=True)\n",
    "\n",
    "# Plot histogram for forward matches\n",
    "im = axes[0].imshow(Hfwd, cmap=plt.cm.Blues, norm=LogNorm(),\n",
    "                    extent=[xedgesf[0], xedgesf[-1], yedgesf[0], yedgesf[-1]],\n",
    "                    origin='lower', aspect=1)\n",
    "axes[0].set_title(\"Forward\")\n",
    "axes[0].set_xlabel(\"query\")\n",
    "axes[0].set_ylabel(\"subject\")\n",
    "\n",
    "# Plot histogram for reverse matches\n",
    "im = axes[1].imshow(Hrev, cmap=plt.cm.Blues, norm=LogNorm(),\n",
    "                    extent=[xedgesr[0], xedgesr[-1], yedgesr[0], yedgesr[-1]],\n",
    "                    origin='lower', aspect=1)\n",
    "axes[1].set_title(\"Reverse\")\n",
    "axes[1].set_xlabel(\"query\")\n",
    "axes[1].set_ylabel(\"subject\")\n",
    "\n",
    "# Add colourbars\n",
    "fig.colorbar(im, ax=axes[0])\n",
    "fig.colorbar(im, ax=axes[1])"
   ]
  },
  {
   "cell_type": "code",
   "execution_count": 11,
   "metadata": {},
   "outputs": [],
   "source": [
    "# Merge forward and reverse results\n",
    "rbbh = pd.merge(fwd_results, rev_results[['query', 'subject']],\n",
    "                left_on='subject', right_on='query',\n",
    "                how='outer')\n",
    "\n",
    "# Discard rows that are not RBH\n",
    "rbbh = rbbh.loc[rbbh.query_x == rbbh.subject_y]\n",
    "\n",
    "# Group duplicate RBH rows, taking the maximum value in each column\n",
    "rbbh = rbbh.groupby(['query_x', 'subject_x']).max()"
   ]
  },
  {
   "cell_type": "code",
   "execution_count": 12,
   "metadata": {},
   "outputs": [
    {
     "data": {
      "text/html": [
       "<div>\n",
       "<style scoped>\n",
       "    .dataframe tbody tr th:only-of-type {\n",
       "        vertical-align: middle;\n",
       "    }\n",
       "\n",
       "    .dataframe tbody tr th {\n",
       "        vertical-align: top;\n",
       "    }\n",
       "\n",
       "    .dataframe thead th {\n",
       "        text-align: right;\n",
       "    }\n",
       "</style>\n",
       "<table border=\"1\" class=\"dataframe\">\n",
       "  <thead>\n",
       "    <tr style=\"text-align: right;\">\n",
       "      <th></th>\n",
       "      <th></th>\n",
       "      <th>identity</th>\n",
       "      <th>coverage</th>\n",
       "      <th>qlength</th>\n",
       "      <th>slength</th>\n",
       "      <th>alength</th>\n",
       "      <th>bitscore</th>\n",
       "      <th>E-value</th>\n",
       "      <th>norm_bitscore</th>\n",
       "      <th>qcov</th>\n",
       "      <th>scov</th>\n",
       "      <th>query_y</th>\n",
       "      <th>subject_y</th>\n",
       "    </tr>\n",
       "    <tr>\n",
       "      <th>query_x</th>\n",
       "      <th>subject_x</th>\n",
       "      <th></th>\n",
       "      <th></th>\n",
       "      <th></th>\n",
       "      <th></th>\n",
       "      <th></th>\n",
       "      <th></th>\n",
       "      <th></th>\n",
       "      <th></th>\n",
       "      <th></th>\n",
       "      <th></th>\n",
       "      <th></th>\n",
       "      <th></th>\n",
       "    </tr>\n",
       "  </thead>\n",
       "  <tbody>\n",
       "    <tr>\n",
       "      <th>XP_020891809.1</th>\n",
       "      <th>HyS0118.15</th>\n",
       "      <td>81.614</td>\n",
       "      <td>75.0</td>\n",
       "      <td>783.0</td>\n",
       "      <td>541.0</td>\n",
       "      <td>446.0</td>\n",
       "      <td>750.0</td>\n",
       "      <td>4.900000e+00</td>\n",
       "      <td>0.957854</td>\n",
       "      <td>0.569604</td>\n",
       "      <td>0.824399</td>\n",
       "      <td>HyS0118.15</td>\n",
       "      <td>XP_020891809.1</td>\n",
       "    </tr>\n",
       "    <tr>\n",
       "      <th>XP_020891810.1</th>\n",
       "      <th>HyS0061.20</th>\n",
       "      <td>42.140</td>\n",
       "      <td>94.0</td>\n",
       "      <td>559.0</td>\n",
       "      <td>579.0</td>\n",
       "      <td>598.0</td>\n",
       "      <td>310.0</td>\n",
       "      <td>1.680000e-98</td>\n",
       "      <td>0.554562</td>\n",
       "      <td>1.000000</td>\n",
       "      <td>1.000000</td>\n",
       "      <td>HyS0061.20</td>\n",
       "      <td>XP_020891810.1</td>\n",
       "    </tr>\n",
       "    <tr>\n",
       "      <th>XP_020891811.1</th>\n",
       "      <th>HyS0060.117</th>\n",
       "      <td>34.858</td>\n",
       "      <td>95.0</td>\n",
       "      <td>480.0</td>\n",
       "      <td>462.0</td>\n",
       "      <td>459.0</td>\n",
       "      <td>266.0</td>\n",
       "      <td>6.600000e-84</td>\n",
       "      <td>0.554167</td>\n",
       "      <td>0.956250</td>\n",
       "      <td>0.993506</td>\n",
       "      <td>HyS0060.117</td>\n",
       "      <td>XP_020891811.1</td>\n",
       "    </tr>\n",
       "    <tr>\n",
       "      <th>XP_020891814.1</th>\n",
       "      <th>HyS0001.670</th>\n",
       "      <td>52.308</td>\n",
       "      <td>96.0</td>\n",
       "      <td>465.0</td>\n",
       "      <td>490.0</td>\n",
       "      <td>455.0</td>\n",
       "      <td>486.0</td>\n",
       "      <td>9.000000e-170</td>\n",
       "      <td>1.045161</td>\n",
       "      <td>0.978495</td>\n",
       "      <td>0.928571</td>\n",
       "      <td>HyS0001.670</td>\n",
       "      <td>XP_020891814.1</td>\n",
       "    </tr>\n",
       "    <tr>\n",
       "      <th>XP_020891815.2</th>\n",
       "      <th>HyS0061.43</th>\n",
       "      <td>57.325</td>\n",
       "      <td>93.0</td>\n",
       "      <td>478.0</td>\n",
       "      <td>717.0</td>\n",
       "      <td>471.0</td>\n",
       "      <td>511.0</td>\n",
       "      <td>3.150000e-176</td>\n",
       "      <td>1.069038</td>\n",
       "      <td>0.985356</td>\n",
       "      <td>0.656904</td>\n",
       "      <td>HyS0061.43</td>\n",
       "      <td>XP_020891815.2</td>\n",
       "    </tr>\n",
       "  </tbody>\n",
       "</table>\n",
       "</div>"
      ],
      "text/plain": [
       "                            identity  coverage  qlength  slength  alength  \\\n",
       "query_x        subject_x                                                    \n",
       "XP_020891809.1 HyS0118.15     81.614      75.0    783.0    541.0    446.0   \n",
       "XP_020891810.1 HyS0061.20     42.140      94.0    559.0    579.0    598.0   \n",
       "XP_020891811.1 HyS0060.117    34.858      95.0    480.0    462.0    459.0   \n",
       "XP_020891814.1 HyS0001.670    52.308      96.0    465.0    490.0    455.0   \n",
       "XP_020891815.2 HyS0061.43     57.325      93.0    478.0    717.0    471.0   \n",
       "\n",
       "                            bitscore        E-value  norm_bitscore      qcov  \\\n",
       "query_x        subject_x                                                       \n",
       "XP_020891809.1 HyS0118.15      750.0   4.900000e+00       0.957854  0.569604   \n",
       "XP_020891810.1 HyS0061.20      310.0   1.680000e-98       0.554562  1.000000   \n",
       "XP_020891811.1 HyS0060.117     266.0   6.600000e-84       0.554167  0.956250   \n",
       "XP_020891814.1 HyS0001.670     486.0  9.000000e-170       1.045161  0.978495   \n",
       "XP_020891815.2 HyS0061.43      511.0  3.150000e-176       1.069038  0.985356   \n",
       "\n",
       "                                scov      query_y       subject_y  \n",
       "query_x        subject_x                                           \n",
       "XP_020891809.1 HyS0118.15   0.824399   HyS0118.15  XP_020891809.1  \n",
       "XP_020891810.1 HyS0061.20   1.000000   HyS0061.20  XP_020891810.1  \n",
       "XP_020891811.1 HyS0060.117  0.993506  HyS0060.117  XP_020891811.1  \n",
       "XP_020891814.1 HyS0001.670  0.928571  HyS0001.670  XP_020891814.1  \n",
       "XP_020891815.2 HyS0061.43   0.656904   HyS0061.43  XP_020891815.2  "
      ]
     },
     "execution_count": 12,
     "metadata": {},
     "output_type": "execute_result"
    }
   ],
   "source": [
    "# Inspect the results\n",
    "rbbh.head()"
   ]
  },
  {
   "cell_type": "code",
   "execution_count": 13,
   "metadata": {},
   "outputs": [
    {
     "name": "stderr",
     "output_type": "stream",
     "text": [
      "/var/folders/b3/5hwmrgld12d6x6qy5vcd3lh40000gq/T/ipykernel_23394/2845910463.py:2: UserWarning: \n",
      "\n",
      "`distplot` is a deprecated function and will be removed in seaborn v0.14.0.\n",
      "\n",
      "Please adapt your code to use either `displot` (a figure-level function with\n",
      "similar flexibility) or `histplot` (an axes-level function for histograms).\n",
      "\n",
      "For a guide to updating your code to use the new functions, please see\n",
      "https://gist.github.com/mwaskom/de44147ed2974457ad6372750bbe5751\n",
      "\n",
      "  sns.distplot(rbbh.norm_bitscore, color=\"b\", axlabel=\"RBH normalised bitscores\")\n"
     ]
    },
    {
     "data": {
      "text/plain": [
       "<AxesSubplot: xlabel='RBH normalised bitscores', ylabel='Density'>"
      ]
     },
     "execution_count": 13,
     "metadata": {},
     "output_type": "execute_result"
    },
    {
     "data": {
      "image/png": "[encoded data removed]",
      "text/plain": [
       "<Figure size 640x480 with 1 Axes>"
      ]
     },
     "metadata": {},
     "output_type": "display_data"
    }
   ],
   "source": [
    "# Plot distribution of RBH bitscores\n",
    "sns.distplot(rbbh.norm_bitscore, color=\"b\", axlabel=\"RBH normalised bitscores\")"
   ]
  },
  {
   "cell_type": "code",
   "execution_count": 14,
   "metadata": {},
   "outputs": [
    {
     "data": {
      "text/plain": [
       "<matplotlib.colorbar.Colorbar at 0x7f887a2149a0>"
      ]
     },
     "execution_count": 14,
     "metadata": {},
     "output_type": "execute_result"
    },
    {
     "data": {
      "image/png": "[encoded data removed]",
      "text/plain": [
       "<Figure size 600x600 with 2 Axes>"
      ]
     },
     "metadata": {},
     "output_type": "display_data"
    }
   ],
   "source": [
    "# Plot 2D density histograms\n",
    "\n",
    "# Calculate 2D density histograms for counts of matches at several coverage levels\n",
    "(H, xedges, yedges) = np.histogram2d(rbbh.qcov, rbbh.scov, bins=20)\n",
    "\n",
    "# Create a 1x2 figure array\n",
    "fig, ax = plt.subplots(1, 1, figsize=(6, 6), sharex=True, sharey=True)\n",
    "\n",
    "# Plot histogram for RBBH\n",
    "im = ax.imshow(H, cmap=plt.cm.Blues, norm=LogNorm(),\n",
    "                 extent=[xedges[0], xedges[-1], yedges[0], yedges[-1]],\n",
    "                 origin='lower', aspect=1)\n",
    "ax.set_title(\"RBBH\")\n",
    "ax.set_xlabel(\"query\")\n",
    "ax.set_ylabel(\"subject\")\n",
    "\n",
    "# Add colourbar\n",
    "fig.colorbar(im, ax=ax)"
   ]
  },
  {
   "cell_type": "code",
   "execution_count": 15,
   "metadata": {},
   "outputs": [
    {
     "data": {
      "text/plain": [
       "'\\nwith open(\"cnidocyteMarkers.txt\") as f:\\n        listMarkers = [x.rstrip() for x in f]\\nmarkerDf = pd.DataFrame()\\nquery_x_list = []\\nsubject_x_list = []\\nfor i in listMarkers:\\n        res = rbbh[rbbh[\\'query_y\\']==i] \\n        if res.empty != True:\\n                query_x_list.append(res[\\'subject_y\\'].iloc[0])\\n                subject_x_list.append(res[\\'query_y\\'].iloc[0]) \\n                markerDf = pd.concat([markerDf,res])\\nidx=0\\nmarkerDf.insert(loc=idx,column=\\'subject_x\\',value=subject_x_list)\\nmarkerDf.insert(loc=idx,column=\\'query_x\\',value=query_x_list)\\n#markerDf.to_csv(outdir+\\'/RBH_markerGenes.csv\\',index=False)\\n'"
      ]
     },
     "execution_count": 15,
     "metadata": {},
     "output_type": "execute_result"
    }
   ],
   "source": [
    "# Search for markers genes\n",
    "\"\"\"\n",
    "with open(\"cnidocyteMarkers.txt\") as f:\n",
    "        listMarkers = [x.rstrip() for x in f]\n",
    "markerDf = pd.DataFrame()\n",
    "query_x_list = []\n",
    "subject_x_list = []\n",
    "for i in listMarkers:\n",
    "        res = rbbh[rbbh['query_y']==i] \n",
    "        if res.empty != True:\n",
    "                query_x_list.append(res['subject_y'].iloc[0])\n",
    "                subject_x_list.append(res['query_y'].iloc[0]) \n",
    "                markerDf = pd.concat([markerDf,res])\n",
    "idx=0\n",
    "markerDf.insert(loc=idx,column='subject_x',value=subject_x_list)\n",
    "markerDf.insert(loc=idx,column='query_x',value=query_x_list)\n",
    "#markerDf.to_csv(outdir+'/RBH_markerGenes.csv',index=False)\n",
    "\"\"\""
   ]
  },
  {
   "cell_type": "code",
   "execution_count": 16,
   "metadata": {},
   "outputs": [],
   "source": [
    "# Discard duplicate RBH\n",
    "\n",
    "def discardDuplicate(filePath):\n",
    "    df = pd.read_csv(filePath,sep='\\t',header=None)\n",
    "    df.columns = ['qseqid','sseqid','pident','qcovs','qlen','slen','length','bitscore','evalue']\n",
    "    df2 = df.groupby(['qseqid', 'sseqid']).first()\n",
    "    return df2\n",
    "\n",
    "forwardCured = discardDuplicate(rPath+'/../../../../species/crossSpecies/'+speciesStr+'/RBH/05-rev-results.tab') \n",
    "reverseCured = discardDuplicate(rPath+'/../../../../species/crossSpecies/'+speciesStr+'/RBH/05-fwd-results.tab')\n",
    "\n",
    "forwardCured.to_csv(rPath+'/../../../../species/crossSpecies/'+speciesStr+'/RBH/'+speciesList[0]+'_'+speciesList[1]+'.txt',sep='\\t')\n",
    "reverseCured.to_csv(rPath+'/../../../../species/crossSpecies/'+speciesStr+'/RBH/'+speciesList[1]+'_'+speciesList[0]+'.txt',sep='\\t')"
   ]
  }
 ],
 "metadata": {
  "kernelspec": {
   "display_name": "base",
   "language": "python",
   "name": "python3"
  },
  "language_info": {
   "codemirror_mode": {
    "name": "ipython",
    "version": 3
   },
   "file_extension": ".py",
   "mimetype": "text/x-python",
   "name": "python",
   "nbconvert_exporter": "python",
   "pygments_lexer": "ipython3",
   "version": "3.9.13"
  },
  "orig_nbformat": 4,
  "vscode": {
   "interpreter": {
    "hash": "590cc60462d9e876bb62dbcb54d1b8f6d55d8eaa56a93ac2a00a0bb21e4ff522"
   }
  }
 },
 "nbformat": 4,
 "nbformat_minor": 2
}
