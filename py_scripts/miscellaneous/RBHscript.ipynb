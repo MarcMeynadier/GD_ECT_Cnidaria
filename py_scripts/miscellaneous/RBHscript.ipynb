{
 "cells": [
  {
   "cell_type": "code",
   "execution_count": 63,
   "metadata": {},
   "outputs": [],
   "source": [
    "%matplotlib inline\n",
    "import matplotlib.pyplot as plt\n",
    "\n",
    "# Standard library packages\n",
    "import os\n",
    "\n",
    "# Import Numpy, Pandas and Seaborn\n",
    "import numpy as np\n",
    "import pandas as pd\n",
    "import seaborn as sns\n",
    "\n",
    "# Import biopython tools for running local BLASTX\n",
    "from Bio.Blast.Applications import NcbiblastpCommandline\n",
    "\n",
    "# Colour scale transformation\n",
    "from matplotlib.colors import LogNorm"
   ]
  },
  {
   "cell_type": "code",
   "execution_count": 64,
   "metadata": {},
   "outputs": [],
   "source": [
    "# Define input and output directories\n",
    "with open(\"speciesList.txt\") as f:\n",
    "        speciesList = [x.rstrip() for x in f]\n",
    "speciesStr = '_'.join(speciesList)\n",
    "rPath = os.getcwd()\n",
    "s1 = rPath+'/../../../../species/'+speciesList[0]+'/raw/longest_isoform_'+speciesList[0]+'Proteins.fasta'\n",
    "s2 = rPath+'/../../../../species/'+speciesList[1]+'/raw/'+speciesList[1]+'Proteins.fasta'\n",
    "outdir = rPath+'/../../../../species/crossSpecies/'+speciesStr+'/RBH/'\n",
    "os.makedirs(outdir, exist_ok=True)\n",
    "# Define output BLAST results\n",
    "fwd_out = os.path.join(outdir, '05-fwd-results.tab')\n",
    "rev_out = os.path.join(outdir, '05-rev-results.tab')"
   ]
  },
  {
   "cell_type": "code",
   "execution_count": 65,
   "metadata": {},
   "outputs": [
    {
     "name": "stdout",
     "output_type": "stream",
     "text": [
      "FORWARD: /Users/mmeynadier/Documents/PhD/scripts/tools/ncbi-blast/bin/blastp -out /Users/mmeynadier/Documents/PhD/scripts/GD_ECT_Cnidaria/py_scripts/miscellaneous/../../../../species/crossSpecies/Hydra_Hydractinia/RBH/05-fwd-results.tab -outfmt \"6 qseqid sseqid pident qcovs qlen slen length bitscore evalue\" -query /Users/mmeynadier/Documents/PhD/scripts/GD_ECT_Cnidaria/py_scripts/miscellaneous/../../../../species/Hydra/raw/longest_isoform_HydraProteins.fasta -max_target_seqs 1 -subject /Users/mmeynadier/Documents/PhD/scripts/GD_ECT_Cnidaria/py_scripts/miscellaneous/../../../../species/Hydractinia/raw/HydractiniaProteins.fasta\n",
      "REVERSE: /Users/mmeynadier/Documents/PhD/scripts/tools/ncbi-blast/bin/blastp -out /Users/mmeynadier/Documents/PhD/scripts/GD_ECT_Cnidaria/py_scripts/miscellaneous/../../../../species/crossSpecies/Hydra_Hydractinia/RBH/05-rev-results.tab -outfmt \"6 qseqid sseqid pident qcovs qlen slen length bitscore evalue\" -query /Users/mmeynadier/Documents/PhD/scripts/GD_ECT_Cnidaria/py_scripts/miscellaneous/../../../../species/Hydractinia/raw/HydractiniaProteins.fasta -max_target_seqs 1 -subject /Users/mmeynadier/Documents/PhD/scripts/GD_ECT_Cnidaria/py_scripts/miscellaneous/../../../../species/Hydra/raw/longest_isoform_HydraProteins.fasta\n"
     ]
    }
   ],
   "source": [
    "# Create BLAST command-lines for forward and reverse BLAST searches\n",
    "blastp='/Users/mmeynadier/Documents/PhD/scripts/tools/ncbi-blast/bin/blastp'\n",
    "fwd_blastp = NcbiblastpCommandline(cmd=blastp,query=s1, subject=s2, out=fwd_out,\n",
    "                                   outfmt=\"6 qseqid sseqid pident qcovs qlen slen length bitscore evalue\",\n",
    "                                   max_target_seqs=1)\n",
    "rev_blastp = NcbiblastpCommandline(cmd=blastp,query=s2, subject=s1, out=rev_out,\n",
    "                                   outfmt=\"6 qseqid sseqid pident qcovs qlen slen length bitscore evalue\",\n",
    "                                   max_target_seqs=1)\n",
    "\n",
    "# Inspect command-lines\n",
    "print(\"FORWARD: %s\" % fwd_blastp)\n",
    "print(\"REVERSE: %s\" % rev_blastp)"
   ]
  },
  {
   "cell_type": "code",
   "execution_count": 66,
   "metadata": {},
   "outputs": [],
   "source": [
    "# Run BLAST searches\n",
    "fwd_stdout, fwd_stderr = fwd_blastp()\n",
    "rev_stdout, rev_stderr = rev_blastp()\n",
    "\n",
    "# Check STDOUT, STDERR\n",
    "print(\"FWD STDOUT: %s\" % fwd_stdout)\n",
    "print(\"FWD STDERR: %s\" % fwd_stderr)\n",
    "print(\"REV STDOUT: %s\" % rev_stdout)\n",
    "print(\"REV STDERR: %s\" % rev_stderr)"
   ]
  },
  {
   "cell_type": "code",
   "execution_count": null,
   "metadata": {},
   "outputs": [],
   "source": [
    "# Load the BLAST results into Pandas dataframes\n",
    "fwd_results = pd.read_csv(fwd_out, sep=\"\\t\", header=None)\n",
    "rev_results = pd.read_csv(rev_out, sep=\"\\t\", header=None)\n",
    "\n",
    "# Add headers to forward and reverse results dataframes\n",
    "headers = [\"query\", \"subject\", \"identity\", \"coverage\",\n",
    "           \"qlength\", \"slength\", \"alength\",\n",
    "           \"bitscore\", \"E-value\"]\n",
    "fwd_results.columns = headers\n",
    "rev_results.columns = headers"
   ]
  },
  {
   "cell_type": "code",
   "execution_count": null,
   "metadata": {},
   "outputs": [],
   "source": [
    "# Create a new column in both dataframes: normalised bitscore\n",
    "fwd_results['norm_bitscore'] = fwd_results.bitscore/fwd_results.qlength\n",
    "rev_results['norm_bitscore'] = rev_results.bitscore/rev_results.qlength\n",
    "\n",
    "# Create query and subject coverage columns in both dataframes\n",
    "fwd_results['qcov'] = fwd_results.alength/fwd_results.qlength\n",
    "rev_results['qcov'] = rev_results.alength/rev_results.qlength\n",
    "fwd_results['scov'] = fwd_results.alength/fwd_results.slength\n",
    "rev_results['scov'] = rev_results.alength/rev_results.slength\n",
    "\n",
    "# Clip maximum coverage values at 1.0\n",
    "fwd_results['qcov'] = fwd_results['qcov'].clip(upper=1)\n",
    "rev_results['qcov'] = rev_results['qcov'].clip(upper=1)\n",
    "fwd_results['scov'] = fwd_results['scov'].clip(upper=1)\n",
    "rev_results['scov'] = rev_results['scov'].clip(upper=1)"
   ]
  },
  {
   "cell_type": "code",
   "execution_count": null,
   "metadata": {},
   "outputs": [],
   "source": [
    "# Inspect the forward results data\n",
    "fwd_results.head()"
   ]
  },
  {
   "cell_type": "code",
   "execution_count": null,
   "metadata": {},
   "outputs": [],
   "source": [
    "# Inspect the reverse results data\n",
    "rev_results.head()"
   ]
  },
  {
   "cell_type": "code",
   "execution_count": null,
   "metadata": {},
   "outputs": [],
   "source": [
    "# Set up the figure\n",
    "f, axes = plt.subplots(1, 2, figsize=(14, 7), sharex=True)\n",
    "sns.despine(left=True)\n",
    "\n",
    "# Plot distribution of forward and reverse hit bitscores\n",
    "sns.distplot(fwd_results.norm_bitscore, color=\"b\", ax=axes[0], axlabel=\"forward normalised bitscores\")\n",
    "sns.distplot(rev_results.norm_bitscore, color=\"g\", ax=axes[1], axlabel=\"reverse normalised bitscores\")"
   ]
  },
  {
   "cell_type": "code",
   "execution_count": null,
   "metadata": {},
   "outputs": [],
   "source": [
    "# Plot 2D density histograms\n",
    "\n",
    "# Calculate 2D density histograms for counts of matches at several coverage levels\n",
    "(Hfwd, xedgesf, yedgesf) = np.histogram2d(fwd_results.qcov, fwd_results.scov, bins=20)\n",
    "(Hrev, xedgesr, yedgesr) = np.histogram2d(rev_results.qcov, rev_results.scov, bins=20)\n",
    "\n",
    "# Create a 1x2 figure array\n",
    "fig, axes = plt.subplots(1, 2, figsize=(15, 6), sharex=True, sharey=True)\n",
    "\n",
    "# Plot histogram for forward matches\n",
    "im = axes[0].imshow(Hfwd, cmap=plt.cm.Blues, norm=LogNorm(),\n",
    "                    extent=[xedgesf[0], xedgesf[-1], yedgesf[0], yedgesf[-1]],\n",
    "                    origin='lower', aspect=1)\n",
    "axes[0].set_title(\"Forward\")\n",
    "axes[0].set_xlabel(\"query\")\n",
    "axes[0].set_ylabel(\"subject\")\n",
    "\n",
    "# Plot histogram for reverse matches\n",
    "im = axes[1].imshow(Hrev, cmap=plt.cm.Blues, norm=LogNorm(),\n",
    "                    extent=[xedgesr[0], xedgesr[-1], yedgesr[0], yedgesr[-1]],\n",
    "                    origin='lower', aspect=1)\n",
    "axes[1].set_title(\"Reverse\")\n",
    "axes[1].set_xlabel(\"query\")\n",
    "axes[1].set_ylabel(\"subject\")\n",
    "\n",
    "# Add colourbars\n",
    "fig.colorbar(im, ax=axes[0])\n",
    "fig.colorbar(im, ax=axes[1])"
   ]
  },
  {
   "cell_type": "code",
   "execution_count": null,
   "metadata": {},
   "outputs": [],
   "source": [
    "# Merge forward and reverse results\n",
    "rbbh = pd.merge(fwd_results, rev_results[['query', 'subject']],\n",
    "                left_on='subject', right_on='query',\n",
    "                how='outer')\n",
    "\n",
    "# Discard rows that are not RBH\n",
    "rbbh = rbbh.loc[rbbh.query_x == rbbh.subject_y]\n",
    "\n",
    "# Group duplicate RBH rows, taking the maximum value in each column\n",
    "rbbh = rbbh.groupby(['query_x', 'subject_x']).max()"
   ]
  },
  {
   "cell_type": "code",
   "execution_count": null,
   "metadata": {},
   "outputs": [],
   "source": [
    "# Inspect the results\n",
    "rbbh.head()"
   ]
  },
  {
   "cell_type": "code",
   "execution_count": null,
   "metadata": {},
   "outputs": [],
   "source": [
    "# Plot distribution of RBH bitscores\n",
    "sns.distplot(rbbh.norm_bitscore, color=\"b\", axlabel=\"RBH normalised bitscores\")"
   ]
  },
  {
   "cell_type": "code",
   "execution_count": null,
   "metadata": {},
   "outputs": [],
   "source": [
    "# Plot 2D density histograms\n",
    "\n",
    "# Calculate 2D density histograms for counts of matches at several coverage levels\n",
    "(H, xedges, yedges) = np.histogram2d(rbbh.qcov, rbbh.scov, bins=20)\n",
    "\n",
    "# Create a 1x2 figure array\n",
    "fig, ax = plt.subplots(1, 1, figsize=(6, 6), sharex=True, sharey=True)\n",
    "\n",
    "# Plot histogram for RBBH\n",
    "im = ax.imshow(H, cmap=plt.cm.Blues, norm=LogNorm(),\n",
    "                 extent=[xedges[0], xedges[-1], yedges[0], yedges[-1]],\n",
    "                 origin='lower', aspect=1)\n",
    "ax.set_title(\"RBBH\")\n",
    "ax.set_xlabel(\"query\")\n",
    "ax.set_ylabel(\"subject\")\n",
    "\n",
    "# Add colourbar\n",
    "fig.colorbar(im, ax=ax)"
   ]
  },
  {
   "cell_type": "code",
   "execution_count": null,
   "metadata": {},
   "outputs": [],
   "source": [
    "# Search for markers genes\n",
    "\"\"\"\n",
    "with open(\"cnidocyteMarkers.txt\") as f:\n",
    "        listMarkers = [x.rstrip() for x in f]\n",
    "markerDf = pd.DataFrame()\n",
    "query_x_list = []\n",
    "subject_x_list = []\n",
    "for i in listMarkers:\n",
    "        res = rbbh[rbbh['query_y']==i] \n",
    "        if res.empty != True:\n",
    "                query_x_list.append(res['subject_y'].iloc[0])\n",
    "                subject_x_list.append(res['query_y'].iloc[0]) \n",
    "                markerDf = pd.concat([markerDf,res])\n",
    "idx=0\n",
    "markerDf.insert(loc=idx,column='subject_x',value=subject_x_list)\n",
    "markerDf.insert(loc=idx,column='query_x',value=query_x_list)\n",
    "#markerDf.to_csv(outdir+'/RBH_markerGenes.csv',index=False)\n",
    "\"\"\""
   ]
  },
  {
   "cell_type": "code",
   "execution_count": null,
   "metadata": {},
   "outputs": [],
   "source": [
    "# Discard duplicate RBH\n",
    "\n",
    "def discardDuplicate(filePath):\n",
    "    df = pd.read_csv(filePath,sep='\\t',header=None)\n",
    "    df.columns = ['qseqid','sseqid','pident','qcovs','qlen','slen','length','bitscore','evalue']\n",
    "    df2 = df.groupby(['qseqid', 'sseqid']).first()\n",
    "    return df2\n",
    "\n",
    "forwardCured = discardDuplicate(rPath+'/../../../../species/crossSpecies/'+speciesStr+'/RBH/05-rev-results.tab') \n",
    "reverseCured = discardDuplicate(rPath+'/../../../../species/crossSpecies/'+speciesStr+'/RBH/05-fwd-results.tab')\n",
    "\n",
    "forwardCured.to_csv(rPath+'/../../../../species/crossSpecies/'+speciesStr+'/RBH/forwardRBH.txt',sep='\\t')\n",
    "reverseCured.to_csv(rPath+'/../../../../species/crossSpecies/'+speciesStr+'/RBH/backwardRBH.txt',sep='\\t')"
   ]
  },
  {
   "cell_type": "code",
   "execution_count": null,
   "metadata": {},
   "outputs": [],
   "source": [
    "# RBH over more than 2 species\n",
    "\n",
    "\"\"\"\n",
    "# Define input protein sequence files\n",
    "infiles = ['']\n",
    "\n",
    "# List to hold commands\n",
    "my_commands = []\n",
    "\n",
    "# Loop over input files and create forward and reverse commands\n",
    "for idx, org1 in enumerate(infiles):\n",
    "    for org2 in infiles[idx+1:]:\n",
    "        fwd_out = \"{0}_vs_{1}\".format(os.path.split(org1)[-1],\n",
    "                                      os.path.split(org2)[-1])      # Forward output file\n",
    "        rev_out = \"{1}_vs_{0}\".format(os.path.split(org1)[-1],\n",
    "                                      os.path.split(org2)[-1])      # Reverse output file\n",
    "        fwd_blastp = NcbiblastpCommandline(cmd= blastp, query=org1, subject=org2, out=fwd_out,\n",
    "                                   outfmt=\"\\'6 qseqid sseqid pident qcovs qlen slen length bitscore evalue\\'\",\n",
    "                                   max_target_seqs=1)  # Forward command\n",
    "        rev_blastp = NcbiblastpCommandline(cmd=blastp, query=org2, subject=org1, out=rev_out,\n",
    "                                   outfmt=\"\\'6 qseqid sseqid pident qcovs qlen slen length bitscore evalue\\'\",\n",
    "                                   max_target_seqs=1)  # Reverse commmand\n",
    "        my_commands += [fwd_blastp, rev_blastp]\n",
    "        \n",
    "# Print out commands\n",
    "print('\\n\\n'.join([str(cmd) for cmd in my_commands]))\n",
    "\"\"\""
   ]
  },
  {
   "cell_type": "code",
   "execution_count": null,
   "metadata": {},
   "outputs": [],
   "source": [
    "\"\"\"\n",
    "RBHpath = rPath + '/../../../../../species/crossSpecies/'+speciesList[0]+'_'+speciesList[1]+'/RBH/'\n",
    "forward = pd.read_csv(RBHpath+speciesList[0]+'_'+speciesList[1]+'.txt',sep=\"\\t\")\n",
    "backward = pd.read_csv(RBHpath+speciesList[1]+'_'+speciesList[0]+'.txt',sep=\"\\t\") \n",
    "backward[['qseqid','sseqid']] = backward[['sseqid','qseqid']] \n",
    "RBHdf = pd.merge(forward,backward,on=['qseqid','sseqid'],how='inner')\n",
    "RBHdf.to_csv(RBHpath+'RBHmerged.txt',sep='\\t')\n",
    "\"\"\""
   ]
  }
 ],
 "metadata": {
  "kernelspec": {
   "display_name": "base",
   "language": "python",
   "name": "python3"
  },
  "language_info": {
   "codemirror_mode": {
    "name": "ipython",
    "version": 3
   },
   "file_extension": ".py",
   "mimetype": "text/x-python",
   "name": "python",
   "nbconvert_exporter": "python",
   "pygments_lexer": "ipython3",
   "version": "3.9.13"
  },
  "orig_nbformat": 4,
  "vscode": {
   "interpreter": {
    "hash": "590cc60462d9e876bb62dbcb54d1b8f6d55d8eaa56a93ac2a00a0bb21e4ff522"
   }
  }
 },
 "nbformat": 4,
 "nbformat_minor": 2
}
