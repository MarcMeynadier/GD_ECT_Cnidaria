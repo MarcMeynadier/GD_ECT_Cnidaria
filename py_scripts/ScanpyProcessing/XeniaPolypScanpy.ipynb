{
 "cells": [
  {
   "cell_type": "code",
   "execution_count": null,
   "metadata": {},
   "outputs": [],
   "source": [
    "\"\"\"\n",
    "Analysis of Xenia polyp single cell RNAseq data using ScanPy\n",
    "Marc Meynadier\n",
    "\"\"\""
   ]
  },
  {
   "cell_type": "code",
   "execution_count": null,
   "metadata": {},
   "outputs": [],
   "source": [
    "!date"
   ]
  },
  {
   "cell_type": "code",
   "execution_count": null,
   "metadata": {},
   "outputs": [],
   "source": [
    "import numpy as np\n",
    "import anndata\n",
    "import pandas as pd\n",
    "import scanpy as sc\n",
    "import scipy.sparse\n",
    "import scanpy.external as sce\n",
    "import os\n",
    "\n",
    "import warnings\n",
    "warnings.filterwarnings('ignore')\n",
    "\n",
    "from sklearn.neighbors import (KNeighborsClassifier,NeighborhoodComponentsAnalysis)\n",
    "from sklearn.pipeline import Pipeline\n",
    "from sklearn.manifold import TSNE\n",
    "\n",
    "import matplotlib.pyplot as plt\n",
    "from matplotlib import rcParams\n",
    "#import plotly.tools as tls\n",
    "\n",
    "import seaborn as sns\n",
    "sns.set(style=\"whitegrid\")\n",
    "\n",
    "import collections\n",
    "import scipy.sparse as sp_sparse\n",
    "import h5py"
   ]
  },
  {
   "cell_type": "code",
   "execution_count": null,
   "metadata": {},
   "outputs": [],
   "source": [
    "sc.logging.print_header()\n",
    "sc.settings.set_figure_params(dpi=150, facecolor='white')"
   ]
  },
  {
   "cell_type": "code",
   "execution_count": null,
   "metadata": {},
   "outputs": [],
   "source": [
    "# Loading polyp data\n",
    "\n",
    "v2StalkPath = \"../../../../species/Xenia/analysis/STARmapping/hu2020/PRJNA548325/SRX6048175_stalk/\"\n",
    "v2PolypPath = \"../../../../species/Xenia/analysis/STARmapping/hu2020/PRJNA548325/SRX6048176_polyp/\"\n",
    "v2TentaclePath = \"../../../../species/Xenia/analysis/STARmapping/hu2020/PRJNA548325/SRX6048178_tentacle/\"\n",
    "v3PolypPath = \"../../../../species/Xenia/analysis/STARmapping/hu2020/PRJNA548325/SRX7665996_polyp/\"\n",
    "v2Stalk= sc.read_10x_mtx(v2StalkPath) ; v2Stalk.var_names_make_unique()\n",
    "v2Polyp = sc.read_10x_mtx(v2PolypPath) ; v2Polyp.var_names_make_unique()\n",
    "v2Tentacle = sc.read_10x_mtx(v2TentaclePath) ; v2Tentacle.var_names_make_unique()\n",
    "v3Polyp = sc.read_10x_mtx(v3PolypPath) ; v3Polyp.var_names_make_unique()"
   ]
  },
  {
   "cell_type": "code",
   "execution_count": null,
   "metadata": {},
   "outputs": [],
   "source": [
    "# Metadata\n",
    "v2Stalk.obs['type']=\"polyp\"\n",
    "v2Stalk.obs['sample']=\"Stalk\"\n",
    "\n",
    "v2Polyp.obs['type']=\"polyp\"\n",
    "v2Polyp.obs['sample']=\"Polyp V2\"\n",
    "\n",
    "v2Tentacle.obs['type']=\"polyp\"\n",
    "v2Tentacle.obs['sample']=\"Tentacle\"\n",
    "\n",
    "v3Polyp.obs['type']=\"polyp\"\n",
    "v3Polyp.obs['sample']=\"Polyp V3\""
   ]
  },
  {
   "cell_type": "code",
   "execution_count": null,
   "metadata": {},
   "outputs": [],
   "source": [
    "# Merging\n",
    "adata = v2Polyp.concatenate(v2Tentacle,v2Stalk,v3Polyp,join='outer') \n",
    "print(adata.obs['sample'].value_counts())"
   ]
  },
  {
   "cell_type": "code",
   "execution_count": null,
   "metadata": {},
   "outputs": [],
   "source": [
    "# Mitochondrial genes\n",
    "mitoGenes = pd.read_csv('../../../../species/Xenia/raw/XeniaMitoGenes.txt',sep='\\t')\n",
    "mitoGenes = list(set(list(mitoGenes.iloc[:,0])))\n",
    "print(mitoGenes)\n",
    "\n",
    "adata.var['mt'] = False\n",
    "adata.var = adata.var.reset_index()\n",
    "for idx, row in adata.var.iterrows():\n",
    "    for j in mitoGenes:\n",
    "        if row['index'] == j:\n",
    "            adata.var.at[idx,'mt'] = True\n",
    "adata.var = adata.var.set_index('index')\n",
    "\n",
    "print(adata.var)\n",
    "adata.var.mt.value_counts()"
   ]
  },
  {
   "cell_type": "code",
   "execution_count": null,
   "metadata": {},
   "outputs": [],
   "source": [
    "# Mitochondrial quality check\n",
    "sc.pp.calculate_qc_metrics(adata, qc_vars=['mt'], percent_top=None, log1p=True, inplace=True)\n",
    "mito_genes = adata.var['mt'].to_numpy()\n",
    "# For each cell compute fraction of counts in mito genes vs. all genes\n",
    "adata.obs['percent_mt2'] = np.sum(adata[:, mito_genes].X, axis=1).A1 / np.sum(adata.X, axis=1).A1\n",
    "# Add the total counts per cell as observations-annotation \n",
    "adata.obs['n_counts'] = adata.X.sum(axis=1).A1\n",
    "adata"
   ]
  },
  {
   "cell_type": "code",
   "execution_count": null,
   "metadata": {},
   "outputs": [],
   "source": [
    "sc.pl.violin(adata, ['n_genes_by_counts', 'log1p_n_genes_by_counts', 'total_counts', 'log1p_total_counts'],\n",
    "             jitter=0.4, groupby = 'sample', rotation= 45, ncols=2)\n",
    "sc.pl.violin(adata, ['pct_counts_mt', 'percent_mt2','log1p_total_counts_mt'],\n",
    "             jitter=0.4, groupby = 'sample', rotation= 45, ncols=2)"
   ]
  },
  {
   "cell_type": "code",
   "execution_count": null,
   "metadata": {},
   "outputs": [],
   "source": [
    "# Plot quality check measures\n",
    "sc.pl.scatter(adata, x='total_counts', y='pct_counts_mt', color=\"sample\")\n",
    "sc.pl.scatter(adata, x='total_counts', y='n_genes_by_counts', color=\"sample\")\n",
    "sc.pl.scatter(adata, x='log1p_total_counts', y='log1p_n_genes_by_counts', color=\"sample\")"
   ]
  },
  {
   "cell_type": "code",
   "execution_count": null,
   "metadata": {},
   "outputs": [],
   "source": [
    "# Filtering by genes counts and mitochrondial genes counts\n",
    "adata = adata[adata.obs.n_genes_by_counts < 9000, :]\n",
    "adata = adata[adata.obs.pct_counts_mt < 1, :]\n",
    "adata"
   ]
  },
  {
   "cell_type": "code",
   "execution_count": null,
   "metadata": {},
   "outputs": [],
   "source": [
    "# Filtering by number of counts and number of cells\n",
    "sc.pp.filter_cells(adata, min_counts=500)\n",
    "sc.pp.filter_genes(adata, min_cells=2)\n",
    "print(adata.n_obs,adata.n_vars)"
   ]
  },
  {
   "cell_type": "code",
   "execution_count": null,
   "metadata": {},
   "outputs": [],
   "source": [
    "# Plotting percentage of counts per gene \n",
    "sc.pl.highest_expr_genes(adata, n_top=50)"
   ]
  },
  {
   "cell_type": "code",
   "execution_count": null,
   "metadata": {},
   "outputs": [],
   "source": [
    "# Exporting raw adata\n",
    "rPath = os.getcwd()\n",
    "outputPath = rPath+'/../../../../species/Xenia/analysis/ScanPy/'\n",
    "adata.write_h5ad(outputPath+'Xenia_polyp_raw.h5ad')"
   ]
  },
  {
   "cell_type": "code",
   "execution_count": null,
   "metadata": {},
   "outputs": [],
   "source": [
    "sc.pp.normalize_total(adata, target_sum=1e4)\n",
    "sc.pp.log1p(adata)\n",
    "sc.pp.highly_variable_genes(adata, min_mean=0.0125, max_mean=3, min_disp=0.5)\n",
    "\n",
    "adata.raw = adata\n",
    "\n",
    "adata = adata[:, adata.var.highly_variable]\n",
    "sc.pp.regress_out(adata, ['total_counts', 'pct_counts_mt'])\n",
    "sc.pp.scale(adata, max_value=10)\n",
    "sc.tl.pca(adata, svd_solver='arpack')"
   ]
  },
  {
   "cell_type": "code",
   "execution_count": null,
   "metadata": {},
   "outputs": [],
   "source": [
    "# Correcting batch effet\n",
    "sce.pp.harmony_integrate(adata,'sample',max_iter_harmony=20)"
   ]
  },
  {
   "cell_type": "code",
   "execution_count": null,
   "metadata": {},
   "outputs": [],
   "source": [
    "adata"
   ]
  },
  {
   "cell_type": "code",
   "execution_count": null,
   "metadata": {},
   "outputs": [],
   "source": [
    "#plot the amount of variance explained by each PC\n",
    "sc.pl.pca_variance_ratio(adata, log=True, n_pcs = 50)"
   ]
  },
  {
   "cell_type": "code",
   "execution_count": null,
   "metadata": {},
   "outputs": [],
   "source": [
    "# Computing neighbors graph\n",
    "sc.pp.neighbors(adata, n_neighbors=50, n_pcs=30, knn=True, use_rep='X_pca_harmony')\n",
    "\n",
    "# Clustering the graph using Leiden algorithm\n",
    "sc.tl.leiden(adata,resolution=1.2) \n",
    "\n",
    "# Computing UMAP\n",
    "sc.tl.umap(adata)"
   ]
  },
  {
   "cell_type": "code",
   "execution_count": null,
   "metadata": {},
   "outputs": [],
   "source": [
    "sc.pl.umap(adata, color=['leiden','sample'], title=\"UMAP Xenia polyp\",ncols=1)\n",
    "sc.pl.umap(adata, color=['leiden'], legend_loc= 'on data')\n",
    "sc.pl.umap(adata, color=['total_counts', 'n_genes_by_counts'])\n",
    "sc.pl.umap(adata, color=['log1p_total_counts', 'log1p_n_genes_by_counts'])"
   ]
  },
  {
   "cell_type": "code",
   "execution_count": null,
   "metadata": {},
   "outputs": [],
   "source": [
    "# Checking how each sample contribute to the final map => investigate possible batch effect\n",
    "\n",
    "sc.pl.umap(adata, color=['leiden'], frameon=False)\n",
    "sc.pl.umap(adata[adata.obs.loc[adata.obs['sample'].isin(['Stalk'])].index.tolist(), ], color= ['leiden','sample'], title=['Clusters','sample'], frameon=False, size=10,ncols=1)\n",
    "sc.pl.umap(adata[adata.obs.loc[adata.obs['sample'].isin(['Tentacle'])].index.tolist(), ], color= ['leiden','sample'], title=['Clusters','sample'], frameon=False, size=10,ncols=1)\n",
    "sc.pl.umap(adata[adata.obs.loc[adata.obs['sample'].isin(['Polyp V2'])].index.tolist(), ], color= ['leiden','sample'], title=['Clusters','sample'], frameon=False, size=10,ncols=1)\n",
    "sc.pl.umap(adata[adata.obs.loc[adata.obs['sample'].isin(['Polyp V3'])].index.tolist(), ], color= ['leiden','sample'], title=['Clusters','sample'], frameon=False, size=10,ncols=1)"
   ]
  },
  {
   "cell_type": "code",
   "execution_count": null,
   "metadata": {},
   "outputs": [],
   "source": [
    "# Re-exporting data\n",
    "adata.write_h5ad(outputPath+'Xenia_polyp.h5ad')"
   ]
  },
  {
   "cell_type": "code",
   "execution_count": null,
   "metadata": {},
   "outputs": [],
   "source": [
    "# Ranking and extracting marker genes for all clusters\n",
    "sc.tl.rank_genes_groups(adata,'leiden',n_genes=1000,method='wilcoxon')\n",
    "\n",
    "clusters = np.unique(adata.obs['leiden'])\n",
    "clusters = clusters.astype('int')\n",
    "clusters = np.sort(clusters)\n",
    "clusters = clusters.astype('str')\n",
    "\n",
    "markers = pd.DataFrame()\n",
    "clus = []\n",
    "markerGene = []\n",
    "padj = []\n",
    "for i in clusters:\n",
    "  genes = adata.uns['rank_genes_groups']['names'][str(i)]\n",
    "  clus += list(np.repeat(i,len(genes)))\n",
    "  markerGene += list(genes)\n",
    "  padj += list(adata.uns['rank_genes_groups']['pvals_adj'][str(i)])\n",
    "markers['clus'] = clus\n",
    "markers['markerGene'] = markerGene\n",
    "markers['padj'] = padj\n",
    "significant = []\n",
    "for index,row in markers.iterrows():\n",
    "    if row['padj'] < 0.05:\n",
    "        significant += \"T\"\n",
    "    else:\n",
    "        significant += \"F\"\n",
    "markers['significant'] = significant\n",
    "significant_markers = markers[markers.significant == \"T\"]\n",
    "significant_markers.to_csv(outputPath+'Xenia_polyp_markers_1000g.csv', sep='\\t',index=False)\n",
    "print(significant_markers)"
   ]
  },
  {
   "cell_type": "code",
   "execution_count": null,
   "metadata": {},
   "outputs": [],
   "source": [
    "def cluster_markers(markersDf,clusterNumber):\n",
    "    subset = markersDf[markersDf[\"clus\"].isin(clusterNumber)]\n",
    "    markerGene = subset[\"markerGene\"].tolist()\n",
    "    return markerGene\n",
    "\n",
    "def save_markers(markerList,path,clusterName):\n",
    "    with open(path+\"Xenia_polyp_\"+clusterName+\"_markers.txt\",\"w\") as f:\n",
    "        for i in markerList:\n",
    "            f.write(i+\"\\n\")\n",
    "        f.close"
   ]
  },
  {
   "cell_type": "code",
   "execution_count": null,
   "metadata": {},
   "outputs": [],
   "source": [
    "# Plotting top marker gene for each cluster\n",
    "markers = []\n",
    "for i in np.unique(adata.obs['leiden']):\n",
    "     markers += [adata.uns['rank_genes_groups']['names'][str(i)][0]]\n",
    "sc.pl.umap(adata,color=markers,color_map = 'viridis')"
   ]
  },
  {
   "cell_type": "code",
   "execution_count": null,
   "metadata": {},
   "outputs": [],
   "source": [
    "sc.tl.paga(adata, groups='leiden')"
   ]
  },
  {
   "cell_type": "code",
   "execution_count": null,
   "metadata": {},
   "outputs": [],
   "source": [
    "adata.obs['leiden_anno'] = adata.obs['leiden']"
   ]
  },
  {
   "cell_type": "code",
   "execution_count": null,
   "metadata": {},
   "outputs": [],
   "source": [
    "adata.obs['leiden_anno'].cat.categories = ['0', '1', '2', '3', '4', '5', '6', '7', '8', '9', '10', '11', '12','13', '14', '15', '16', '17', '18', '19', '20','21','22','23']"
   ]
  },
  {
   "cell_type": "code",
   "execution_count": null,
   "metadata": {},
   "outputs": [],
   "source": [
    "sc.pl.paga(adata, threshold=0.03, show=False,fontsize=9)"
   ]
  },
  {
   "cell_type": "code",
   "execution_count": null,
   "metadata": {},
   "outputs": [],
   "source": [
    "# Test\n",
    "sc.pl.umap(adata,color=['Xe_010536'],legend_loc= 'on data')"
   ]
  },
  {
   "cell_type": "code",
   "execution_count": null,
   "metadata": {},
   "outputs": [],
   "source": [
    "cluster_markers(significant_markers,['11'])"
   ]
  },
  {
   "cell_type": "code",
   "execution_count": null,
   "metadata": {},
   "outputs": [],
   "source": [
    "# Mucous gland\n",
    "sc.pl.umap(adata,color=['Xe_021837'],legend_loc= 'on data') # C8 (mucin)"
   ]
  },
  {
   "cell_type": "code",
   "execution_count": null,
   "metadata": {},
   "outputs": [],
   "source": [
    "# Epidermis\n",
    "sc.pl.umap(adata,color=['Xe_019742'],legend_loc= 'on data')"
   ]
  },
  {
   "cell_type": "code",
   "execution_count": null,
   "metadata": {},
   "outputs": [],
   "source": [
    "# Cnidocytes\n",
    "sc.pl.umap(adata,color=['Xe_010516','Xe_006067'],title=['Xe_010516 - Astacin','Xe_006067 - Gal-Lectin'],legend_loc= 'on data') # Astacin,"
   ]
  },
  {
   "cell_type": "code",
   "execution_count": null,
   "metadata": {},
   "outputs": [],
   "source": [
    "# Gastroderm \n",
    "sc.pl.umap(adata,color=['Xe_005638','Xe_005640'],legend_loc= 'on data')"
   ]
  },
  {
   "cell_type": "code",
   "execution_count": null,
   "metadata": {},
   "outputs": [],
   "source": [
    "# Digestive gland cells\n",
    "sc.pl.umap(adata,color=['Xe_013237'],legend_loc= 'on data')"
   ]
  },
  {
   "cell_type": "code",
   "execution_count": null,
   "metadata": {},
   "outputs": [],
   "source": [
    "# Mature cnidocyte\n",
    "sc.pl.umap(adata,color=['Xe_002963'],legend_loc= 'on data') # By blast on Nematostella + pfam => Anoctamin"
   ]
  },
  {
   "cell_type": "code",
   "execution_count": null,
   "metadata": {},
   "outputs": [],
   "source": [
    "# Muscle\n",
    "sc.pl.umap(adata,color=['Xe_014332','Xe_011435','Xe_013837'],legend_loc= 'on data') # Calponin, tropomyosin"
   ]
  },
  {
   "cell_type": "code",
   "execution_count": null,
   "metadata": {},
   "outputs": [],
   "source": [
    "# Endosymbiotic cells\n",
    "sc.pl.umap(adata,color=['Xe_000857','Xe_015355','Xe_028058'],legend_loc= 'on data') #Granulin, CD36, Tachylectin"
   ]
  },
  {
   "cell_type": "code",
   "execution_count": null,
   "metadata": {},
   "outputs": [],
   "source": [
    "adata.obs['leiden_anno'].cat.categories = [\"0 - Gastrodermis\",\"1 - Ectodermis\",\"2 - Ectodermis\",\"3 - Epidermis\",\"4 - Ectodermis\",\"5 - Ectodermis\",\"6 - NPC\",\"7 - Muscle\",\"8 - Ectodermis\",\"9 - Ectodermis\",\"10 - Gastrodermis\",\"11 - Neurons\",\"12 - Cnidocytes\",\"13 - Epidermis\",\"14 - Mature cnidocytes\",\"15 - Secretory cells (neurosecretory ?)\",\"16 - Ectodermis (secretory ?)\",\"17 - Neurosecretory cells\",\"18 - Early cnidocytes\",\"19 - Mucous gland\",\"20 - Endosymbiotic cells\",\"21 - ?\",\"22 - Endosymbiotic cells\",\"23 - Neurons\"]"
   ]
  },
  {
   "cell_type": "code",
   "execution_count": null,
   "metadata": {},
   "outputs": [],
   "source": [
    "sc.pl.umap(adata, color=['leiden_anno'],title='Xenia polyp annotated clusters',ncols=1,frameon=False)"
   ]
  },
  {
   "cell_type": "code",
   "execution_count": null,
   "metadata": {},
   "outputs": [],
   "source": [
    "sc.pl.umap(adata,title='Xenia polyp\\nRBH - one2one - orthopairsBased', color=['leiden'], legend_loc= 'on data', legend_fontsize=6, legend_fontoutline=3, palette={\"0\":\"#E2E2E2\", \"1\":\"#E2E2E2\", \"2\":\"#E2E2E2\", \"3\":\"#E2E2E2\", \"4\":\"#E2E2E2\", \"5\":\"#E2E2E2\", \"6\":\"#E2E2E2\", \"7\":\"#E2E2E2\", \"8\":\"#E2E2E2\", \"9\":\"#E2E2E2\", \"10\":\"#E2E2E2\", \"11\":\"#E2E2E2\", \"12\":\"#A366E0\", \"13\":\"#E2E2E2\", \"14\":\"#A366E0\", \"15\":\"#E2E2E2\", \"16\":\"#E2E2E2\", \"17\":\"#E2E2E2\", \"18\":\"#A366E0\", \"19\":\"#E2E2E2\", \"20\":\"#E2E2E2\", \"21\":\"#E2E2E2\", \"22\":\"#E2E2E2\", \"23\":\"#E2E2E2\"}, frameon=False)"
   ]
  },
  {
   "cell_type": "code",
   "execution_count": null,
   "metadata": {},
   "outputs": [],
   "source": [
    "sc.pl.umap(adata,title='Xenia polyp\\nRBH - many2many - orthopairsBased', color=['leiden'], legend_loc= 'on data', legend_fontsize=6, legend_fontoutline=3, palette={\"0\":\"#E2E2E2\", \"1\":\"#E2E2E2\", \"2\":\"#E2E2E2\", \"3\":\"#E2E2E2\", \"4\":\"#E2E2E2\", \"5\":\"#E2E2E2\", \"6\":\"#E2E2E2\", \"7\":\"#E2E2E2\", \"8\":\"#E2E2E2\", \"9\":\"#E2E2E2\", \"10\":\"#E2E2E2\", \"11\":\"#E2E2E2\", \"12\":\"#A366E0\", \"13\":\"#E2E2E2\", \"14\":\"#A366E0\", \"15\":\"#A366E0\", \"16\":\"#E2E2E2\", \"17\":\"#E2E2E2\", \"18\":\"#A366E0\", \"19\":\"#E2E2E2\", \"20\":\"#E2E2E2\", \"21\":\"#E2E2E2\", \"22\":\"#E2E2E2\", \"23\":\"#E2E2E2\"}, frameon=False)"
   ]
  },
  {
   "cell_type": "code",
   "execution_count": null,
   "metadata": {},
   "outputs": [],
   "source": [
    "sc.pl.umap(adata,title='Xenia polyp\\nOrthoFinder - many2many - orthopairsBased', color=['leiden'], legend_loc= 'on data', legend_fontsize=6, legend_fontoutline=3, palette={\"0\":\"#E2E2E2\", \"1\":\"#E2E2E2\", \"2\":\"#E2E2E2\", \"3\":\"#E2E2E2\", \"4\":\"#E2E2E2\", \"5\":\"#E2E2E2\", \"6\":\"#E2E2E2\", \"7\":\"#E2E2E2\", \"8\":\"#E2E2E2\", \"9\":\"#E2E2E2\", \"10\":\"#E2E2E2\", \"11\":\"#E2E2E2\", \"12\":\"#A366E0\", \"13\":\"#E2E2E2\", \"14\":\"#A366E0\", \"15\":\"#A366E0\", \"16\":\"#E2E2E2\", \"17\":\"#E2E2E2\", \"18\":\"#A366E0\", \"19\":\"#E2E2E2\", \"20\":\"#E2E2E2\", \"21\":\"#E2E2E2\", \"22\":\"#E2E2E2\", \"23\":\"#E2E2E2\"}, frameon=False)"
   ]
  },
  {
   "cell_type": "code",
   "execution_count": null,
   "metadata": {},
   "outputs": [],
   "source": [
    "sc.pl.umap(adata,title='Xenia polyp\\nOrthoFinder - many2many - genomeBased', color=['leiden'], legend_loc= 'on data', legend_fontsize=6, legend_fontoutline=3, palette={\"0\":\"#E2E2E2\", \"1\":\"#E2E2E2\", \"2\":\"#E2E2E2\", \"3\":\"#E2E2E2\", \"4\":\"#E2E2E2\", \"5\":\"#E2E2E2\", \"6\":\"#E2E2E2\", \"7\":\"#E2E2E2\", \"8\":\"#E2E2E2\", \"9\":\"#E2E2E2\", \"10\":\"#E2E2E2\", \"11\":\"#E2E2E2\", \"12\":\"#A366E0\", \"13\":\"#E2E2E2\", \"14\":\"#A366E0\", \"15\":\"#A366E0\", \"16\":\"#E2E2E2\", \"17\":\"#E2E2E2\", \"18\":\"#A366E0\", \"19\":\"#E2E2E2\", \"20\":\"#E2E2E2\", \"21\":\"#E2E2E2\", \"22\":\"#E2E2E2\", \"23\":\"#E2E2E2\"}, frameon=False)"
   ]
  },
  {
   "cell_type": "code",
   "execution_count": null,
   "metadata": {},
   "outputs": [],
   "source": [
    "sc.pl.umap(adata,title='Xenia polyp\\nRBH - one2one - orthopairsBased', color=['leiden'], legend_loc= 'on data', legend_fontsize=6, legend_fontoutline=3, palette={\"0\":\"#E2E2E2\", \"1\":\"#E2E2E2\", \"2\":\"#E2E2E2\", \"3\":\"#E2E2E2\", \"4\":\"#E2E2E2\", \"5\":\"#E2E2E2\", \"6\":\"#E2E2E2\", \"7\":\"#E2E2E2\", \"8\":\"#E2E2E2\", \"9\":\"#E2E2E2\", \"10\":\"#E2E2E2\", \"11\":\"#0080ff\", \"12\":\"#E2E2E2\", \"13\":\"#E2E2E2\", \"14\":\"#E2E2E2\", \"15\":\"#E2E2E2\", \"16\":\"#E2E2E2\", \"17\":\"#0080ff\", \"18\":\"#E2E2E2\", \"19\":\"#E2E2E2\", \"20\":\"#E2E2E2\", \"21\":\"#E2E2E2\", \"22\":\"#E2E2E2\", \"23\":\"#0080ff\"}, frameon=False)"
   ]
  },
  {
   "cell_type": "code",
   "execution_count": null,
   "metadata": {},
   "outputs": [],
   "source": [
    "sc.pl.umap(adata,title='Xenia polyp\\nRBH - many2many - orthopairsBased', color=['leiden'], legend_loc= 'on data', legend_fontsize=6, legend_fontoutline=3, palette={\"0\":\"#0080ff\", \"1\":\"#0080ff\", \"2\":\"#0080ff\", \"3\":\"#0080ff\", \"4\":\"#0080ff\", \"5\":\"#E2E2E2\", \"6\":\"#0080ff\", \"7\":\"#0080ff\", \"8\":\"#0080ff\", \"9\":\"#E2E2E2\", \"10\":\"#0080ff\", \"11\":\"#0080ff\", \"12\":\"#E2E2E2\", \"13\":\"#E2E2E2\", \"14\":\"#0080ff\", \"15\":\"#0080ff\", \"16\":\"#E2E2E2\", \"17\":\"#0080ff\", \"18\":\"#E2E2E2\", \"19\":\"#0080ff\", \"20\":\"#E2E2E2\", \"21\":\"#E2E2E2\", \"22\":\"#E2E2E2\", \"23\":\"#0080ff\"}, frameon=False)"
   ]
  },
  {
   "cell_type": "code",
   "execution_count": null,
   "metadata": {},
   "outputs": [],
   "source": [
    "sc.pl.umap(adata,title='Xenia polyp\\nOrthoFinder - many2many - orthopairsBased', color=['leiden'], legend_loc= 'on data', legend_fontsize=6, legend_fontoutline=3, palette={\"0\":\"#E2E2E2\", \"1\":\"#0080ff\", \"2\":\"#0080ff\", \"3\":\"#E2E2E2\", \"4\":\"#E2E2E2\", \"5\":\"#E2E2E2\", \"6\":\"#0080ff\", \"7\":\"#E2E2E2\", \"8\":\"#E2E2E2\", \"9\":\"#E2E2E2\", \"10\":\"#E2E2E2\", \"11\":\"#0080ff\", \"12\":\"#E2E2E2\", \"13\":\"#E2E2E2\", \"14\":\"#E2E2E2\", \"15\":\"#0080ff\", \"16\":\"#E2E2E2\", \"17\":\"#0080ff\", \"18\":\"#E2E2E2\", \"19\":\"#E2E2E2\", \"20\":\"#E2E2E2\", \"21\":\"#E2E2E2\", \"22\":\"#E2E2E2\", \"23\":\"#0080ff\"}, frameon=False)"
   ]
  },
  {
   "cell_type": "code",
   "execution_count": null,
   "metadata": {},
   "outputs": [],
   "source": [
    "sc.pl.umap(adata,title='Xenia polyp\\nOrthoFinder - many2many - genomeBased', color=['leiden'], legend_loc= 'on data', legend_fontsize=6, legend_fontoutline=3, palette={\"0\":\"#E2E2E2\", \"1\":\"#0080ff\", \"2\":\"#0080ff\", \"3\":\"#E2E2E2\", \"4\":\"#E2E2E2\", \"5\":\"#E2E2E2\", \"6\":\"#0080ff\", \"7\":\"#E2E2E2\", \"8\":\"#E2E2E2\", \"9\":\"#E2E2E2\", \"10\":\"#E2E2E2\", \"11\":\"#0080ff\", \"12\":\"#E2E2E2\", \"13\":\"#E2E2E2\", \"14\":\"#E2E2E2\", \"15\":\"#0080ff\", \"16\":\"#E2E2E2\", \"17\":\"#0080ff\", \"18\":\"#E2E2E2\", \"19\":\"#E2E2E2\", \"20\":\"#E2E2E2\", \"21\":\"#E2E2E2\", \"22\":\"#E2E2E2\", \"23\":\"#0080ff\"}, frameon=False)"
   ]
  }
 ],
 "metadata": {
  "kernelspec": {
   "display_name": "base",
   "language": "python",
   "name": "python3"
  },
  "language_info": {
   "codemirror_mode": {
    "name": "ipython",
    "version": 3
   },
   "file_extension": ".py",
   "mimetype": "text/x-python",
   "name": "python",
   "nbconvert_exporter": "python",
   "pygments_lexer": "ipython3",
   "version": "3.9.13"
  },
  "orig_nbformat": 4,
  "vscode": {
   "interpreter": {
    "hash": "590cc60462d9e876bb62dbcb54d1b8f6d55d8eaa56a93ac2a00a0bb21e4ff522"
   }
  }
 },
 "nbformat": 4,
 "nbformat_minor": 2
}
