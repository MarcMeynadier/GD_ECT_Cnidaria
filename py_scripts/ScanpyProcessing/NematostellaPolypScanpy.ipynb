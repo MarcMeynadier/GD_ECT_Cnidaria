{
 "cells": [
  {
   "cell_type": "code",
   "execution_count": null,
   "metadata": {},
   "outputs": [],
   "source": [
    "\"\"\"\n",
    "Analysis of Nematostella polyp single cell RNAseq data using ScanPy\n",
    "Marc Meynadier\n",
    "\"\"\""
   ]
  },
  {
   "cell_type": "code",
   "execution_count": null,
   "metadata": {},
   "outputs": [],
   "source": [
    "!date"
   ]
  },
  {
   "cell_type": "code",
   "execution_count": null,
   "metadata": {},
   "outputs": [],
   "source": [
    "import numpy as np\n",
    "import anndata\n",
    "import pandas as pd\n",
    "import scanpy as sc\n",
    "import scipy.sparse\n",
    "import scanpy.external as sce\n",
    "import os\n",
    "\n",
    "import warnings\n",
    "warnings.filterwarnings('ignore')\n",
    "\n",
    "from sklearn.neighbors import (KNeighborsClassifier,NeighborhoodComponentsAnalysis)\n",
    "from sklearn.pipeline import Pipeline\n",
    "from sklearn.manifold import TSNE\n",
    "\n",
    "import matplotlib.pyplot as plt\n",
    "from matplotlib import rcParams\n",
    "#import plotly.tools as tls\n",
    "\n",
    "import seaborn as sns\n",
    "sns.set(style=\"whitegrid\")\n",
    "\n",
    "import collections\n",
    "import scipy.sparse as sp_sparse\n",
    "import h5py"
   ]
  },
  {
   "cell_type": "code",
   "execution_count": null,
   "metadata": {},
   "outputs": [],
   "source": [
    "sc.logging.print_header()\n",
    "sc.settings.set_figure_params(dpi=150, facecolor='white')"
   ]
  },
  {
   "cell_type": "code",
   "execution_count": null,
   "metadata": {},
   "outputs": [],
   "source": [
    "# Loading polyp data\n",
    "\n",
    "tentaclePath = \"../../../../species/Nematostella/analysis/STARmapping/steger2022/GSE154105/GSM4663943_NvSubPolypTentacle/\"\n",
    "bodywallPath = \"../../../../species/Nematostella/analysis/STARmapping/steger2022/GSE154105/GSM4663946_NvSubPolypBodywall/\"\n",
    "mesenteryPath = \"../../../../species/Nematostella/analysis/STARmapping/steger2022/GSE154105/GSM4663944_NvSubPolypMesentery/\"\n",
    "pharynxPath = \"../../../../species/Nematostella/analysis/STARmapping/steger2022/GSE154105/GSM4663945_NvSubPolypPharynx/\"\n",
    "tentacleData = sc.read_10x_mtx(tentaclePath) ; tentacleData.var_names_make_unique()\n",
    "bodywallData = sc.read_10x_mtx(bodywallPath) ; bodywallData.var_names_make_unique()\n",
    "mesenteryData = sc.read_10x_mtx(mesenteryPath) ; mesenteryData.var_names_make_unique()\n",
    "pharynxData = sc.read_10x_mtx(pharynxPath) ; pharynxData.var_names_make_unique()"
   ]
  },
  {
   "cell_type": "code",
   "execution_count": null,
   "metadata": {},
   "outputs": [],
   "source": [
    "# Metadata\n",
    "tentacleData.obs['type']=\"polyp\"\n",
    "tentacleData.obs['sample']=\"Tentacle\"\n",
    "\n",
    "bodywallData.obs['type']=\"polyp\"\n",
    "bodywallData.obs['sample']=\"Bodywall\"\n",
    "\n",
    "mesenteryData.obs['type']=\"polyp\"\n",
    "mesenteryData.obs['sample']=\"Mesentery\"\n",
    "\n",
    "pharynxData.obs['type']=\"polyp\"\n",
    "pharynxData.obs['sample']=\"Pharynx\""
   ]
  },
  {
   "cell_type": "code",
   "execution_count": null,
   "metadata": {},
   "outputs": [],
   "source": [
    "# Merging\n",
    "adata = tentacleData.concatenate(bodywallData,mesenteryData,pharynxData,join='outer') \n",
    "print(adata.obs['sample'].value_counts())"
   ]
  },
  {
   "cell_type": "code",
   "execution_count": null,
   "metadata": {},
   "outputs": [],
   "source": [
    "# Mitochondrial genes\n",
    "mitoGenes = pd.read_csv('../../../../species/Nematostella/raw/NematostellaMitoGenes.txt',sep='\\t')\n",
    "mitoGenes = list(set(list(mitoGenes.iloc[:,0])))\n",
    "\n",
    "\n",
    "adata.var['mt'] = False\n",
    "adata.var = adata.var.reset_index()\n",
    "for idx, row in adata.var.iterrows():\n",
    "    for j in mitoGenes:\n",
    "        if row['index'] == j:\n",
    "            adata.var.at[idx,'mt'] = True\n",
    "adata.var = adata.var.set_index('index')\n",
    "\n",
    "print(adata.var)\n",
    "adata.var.mt.value_counts()"
   ]
  },
  {
   "cell_type": "code",
   "execution_count": null,
   "metadata": {},
   "outputs": [],
   "source": [
    "# Mitochondrial quality check\n",
    "sc.pp.calculate_qc_metrics(adata, qc_vars=['mt'], percent_top=None, log1p=True, inplace=True)\n",
    "mito_genes = adata.var['mt'].to_numpy()\n",
    "# For each cell compute fraction of counts in mito genes vs. all genes\n",
    "adata.obs['percent_mt2'] = np.sum(adata[:, mito_genes].X, axis=1).A1 / np.sum(adata.X, axis=1).A1\n",
    "# Add the total counts per cell as observations-annotation \n",
    "adata.obs['n_counts'] = adata.X.sum(axis=1).A1\n",
    "adata"
   ]
  },
  {
   "cell_type": "code",
   "execution_count": null,
   "metadata": {},
   "outputs": [],
   "source": [
    "sc.pl.violin(adata, ['n_genes_by_counts', 'log1p_n_genes_by_counts', 'total_counts', 'log1p_total_counts'],\n",
    "             jitter=0.4, groupby = 'sample', rotation= 45, ncols=2)\n",
    "sc.pl.violin(adata, ['pct_counts_mt', 'percent_mt2','log1p_total_counts_mt'],\n",
    "             jitter=0.4, groupby = 'sample', rotation= 45, ncols=2)"
   ]
  },
  {
   "cell_type": "code",
   "execution_count": null,
   "metadata": {},
   "outputs": [],
   "source": [
    "# Plot quality check measures\n",
    "sc.pl.scatter(adata, x='total_counts', y='pct_counts_mt', color=\"sample\")\n",
    "sc.pl.scatter(adata, x='total_counts', y='n_genes_by_counts', color=\"sample\")\n",
    "sc.pl.scatter(adata, x='log1p_total_counts', y='log1p_n_genes_by_counts', color=\"sample\")"
   ]
  },
  {
   "cell_type": "code",
   "execution_count": null,
   "metadata": {},
   "outputs": [],
   "source": [
    "# Filtering by genes counts and mitochrondial genes counts\n",
    "adata = adata[adata.obs.n_genes_by_counts < 9000, :]\n",
    "adata = adata[adata.obs.pct_counts_mt < 1, :]\n",
    "adata"
   ]
  },
  {
   "cell_type": "code",
   "execution_count": null,
   "metadata": {},
   "outputs": [],
   "source": [
    "# Filtering by number of counts and number of cells\n",
    "sc.pp.filter_cells(adata, min_counts=500)\n",
    "sc.pp.filter_genes(adata, min_cells=2)\n",
    "print(adata.n_obs,adata.n_vars)"
   ]
  },
  {
   "cell_type": "code",
   "execution_count": null,
   "metadata": {},
   "outputs": [],
   "source": [
    "# Plotting percentage of counts per gene \n",
    "sc.pl.highest_expr_genes(adata, n_top=50)"
   ]
  },
  {
   "cell_type": "code",
   "execution_count": null,
   "metadata": {},
   "outputs": [],
   "source": [
    "# Exporting raw adata\n",
    "rPath = os.getcwd()\n",
    "outputPath = rPath+'/../../../../species/Nematostella/analysis/ScanPy/'\n",
    "adata.write_h5ad(outputPath+'Nematostella_polyp_raw.h5ad')"
   ]
  },
  {
   "cell_type": "code",
   "execution_count": null,
   "metadata": {},
   "outputs": [],
   "source": [
    "sc.pp.normalize_total(adata, target_sum=1e4)\n",
    "sc.pp.log1p(adata)\n",
    "sc.pp.highly_variable_genes(adata, min_mean=0.0125, max_mean=3, min_disp=0.5)\n",
    "\n",
    "adata.raw = adata\n",
    "\n",
    "adata = adata[:, adata.var.highly_variable]\n",
    "sc.pp.regress_out(adata, ['total_counts', 'pct_counts_mt'])\n",
    "sc.pp.scale(adata, max_value=10)\n",
    "sc.tl.pca(adata, svd_solver='arpack')"
   ]
  },
  {
   "cell_type": "code",
   "execution_count": null,
   "metadata": {},
   "outputs": [],
   "source": [
    "# Correcting batch effet\n",
    "sce.pp.harmony_integrate(adata,'sample',max_iter_harmony=20)"
   ]
  },
  {
   "cell_type": "code",
   "execution_count": null,
   "metadata": {},
   "outputs": [],
   "source": [
    "adata"
   ]
  },
  {
   "cell_type": "code",
   "execution_count": null,
   "metadata": {},
   "outputs": [],
   "source": [
    "#plot the amount of variance explained by each PC\n",
    "sc.pl.pca_variance_ratio(adata, log=True, n_pcs = 50)"
   ]
  },
  {
   "cell_type": "code",
   "execution_count": null,
   "metadata": {},
   "outputs": [],
   "source": [
    "# Computing neighbors graph\n",
    "sc.pp.neighbors(adata, n_neighbors=50, n_pcs=30, knn=True, use_rep='X_pca_harmony')\n",
    "\n",
    "# Clustering the graph using Leiden algorithm\n",
    "sc.tl.leiden(adata,resolution=1.2) \n",
    "\n",
    "# Computing UMAP\n",
    "sc.tl.umap(adata)"
   ]
  },
  {
   "cell_type": "code",
   "execution_count": null,
   "metadata": {},
   "outputs": [],
   "source": [
    "sc.pl.umap(adata, color=['leiden','sample'], title=\"UMAP Nematostella polyp\",ncols=1)\n",
    "sc.pl.umap(adata, color=['leiden'], legend_loc= 'on data')\n",
    "sc.pl.umap(adata, color=['total_counts', 'n_genes_by_counts'])\n",
    "sc.pl.umap(adata, color=['log1p_total_counts', 'log1p_n_genes_by_counts'])"
   ]
  },
  {
   "cell_type": "code",
   "execution_count": null,
   "metadata": {},
   "outputs": [],
   "source": [
    "# Checking how each sample contribute to the final map => investigate possible batch effect\n",
    "\n",
    "sc.pl.umap(adata, color=['leiden'], frameon=False)\n",
    "sc.pl.umap(adata[adata.obs.loc[adata.obs['sample'].isin(['Tentacle'])].index.tolist(), ], color= ['leiden','sample'], title=['Clusters','sample'], frameon=False, size=10,ncols=1)\n",
    "sc.pl.umap(adata[adata.obs.loc[adata.obs['sample'].isin(['Bodywall'])].index.tolist(), ], color= ['leiden','sample'], title=['Clusters','sample'], frameon=False, size=10,ncols=1)\n",
    "sc.pl.umap(adata[adata.obs.loc[adata.obs['sample'].isin(['Mesentery'])].index.tolist(), ], color= ['leiden','sample'], title=['Clusters','sample'], frameon=False, size=10,ncols=1)\n",
    "sc.pl.umap(adata[adata.obs.loc[adata.obs['sample'].isin(['Pharynx'])].index.tolist(), ], color= ['leiden','sample'], title=['Clusters','sample'], frameon=False, size=10,ncols=1)"
   ]
  },
  {
   "cell_type": "code",
   "execution_count": null,
   "metadata": {},
   "outputs": [],
   "source": [
    "# Re-exporting data\n",
    "adata.write_h5ad(outputPath+'Nematostella_polyp.h5ad')"
   ]
  },
  {
   "cell_type": "code",
   "execution_count": null,
   "metadata": {},
   "outputs": [],
   "source": [
    "# Ranking and extracting marker genes for all clusters\n",
    "sc.tl.rank_genes_groups(adata,'leiden',n_genes=1000,method='wilcoxon')\n",
    "\n",
    "clusters = np.unique(adata.obs['leiden'])\n",
    "clusters = clusters.astype('int')\n",
    "clusters = np.sort(clusters)\n",
    "clusters = clusters.astype('str')\n",
    "\n",
    "markers = pd.DataFrame()\n",
    "clus = []\n",
    "markerGene = []\n",
    "padj = []\n",
    "for i in clusters:\n",
    "  genes = adata.uns['rank_genes_groups']['names'][str(i)]\n",
    "  clus += list(np.repeat(i,len(genes)))\n",
    "  markerGene += list(genes)\n",
    "  padj += list(adata.uns['rank_genes_groups']['pvals_adj'][str(i)])\n",
    "markers['clus'] = clus\n",
    "markers['markerGene'] = markerGene\n",
    "markers['padj'] = padj\n",
    "significant = []\n",
    "for index,row in markers.iterrows():\n",
    "    if row['padj'] < 0.05:\n",
    "        significant += \"T\"\n",
    "    else:\n",
    "        significant += \"F\"\n",
    "markers['significant'] = significant\n",
    "significant_markers = markers[markers.significant == \"T\"]\n",
    "significant_markers.to_csv(outputPath+'Nematostella_adult_markers_1000g.csv', sep='\\t',index=False)\n",
    "print(significant_markers)"
   ]
  },
  {
   "cell_type": "code",
   "execution_count": null,
   "metadata": {},
   "outputs": [],
   "source": [
    "def cluster_markers(markersDf,clusterNumber):\n",
    "    subset = markersDf[markersDf[\"clus\"].isin(clusterNumber)]\n",
    "    markerGene = subset[\"markerGene\"].tolist()\n",
    "    return markerGene\n",
    "\n",
    "def save_markers(markerList,path,clusterName):\n",
    "    with open(path+\"Nematostella_polyp_\"+clusterName+\"_markers.txt\",\"w\") as f:\n",
    "        for i in markerList:\n",
    "            f.write(i+\"\\n\")\n",
    "        f.close"
   ]
  },
  {
   "cell_type": "code",
   "execution_count": null,
   "metadata": {},
   "outputs": [],
   "source": [
    "cluster_markers(significant_markers,['3'])"
   ]
  },
  {
   "cell_type": "code",
   "execution_count": null,
   "metadata": {},
   "outputs": [],
   "source": [
    "# Synaptotagmins\n",
    "sc.pl.umap(adata,color=['NV2g009911000.1','NV2g024306000.1','NV2g024303000.1','NV2g020231000.1','NV2g011180000.1','NV2g009892000.1','NV2g009676000.1','NV2g025037000.1','NV2g011361000.1','NV2g012780000.1','NV2g010021000.1','NV2g015150000.1','NV2g014334000.1','NV2g015152000.1','NV2g012332000.1','NV2g003480000.1','NV2g023244000.1','NV2g024221000.1','NV2g024302000.1','NV2g023245000.1','NV2g020252000.1'],size=20)"
   ]
  },
  {
   "cell_type": "code",
   "execution_count": null,
   "metadata": {},
   "outputs": [],
   "source": [
    "# Plotting top marker gene for each cluster\n",
    "markers = []\n",
    "for i in np.unique(adata.obs['leiden']):\n",
    "     markers += [adata.uns['rank_genes_groups']['names'][str(i)][0]]\n",
    "sc.pl.umap(adata,color=markers,color_map = 'viridis')"
   ]
  },
  {
   "cell_type": "code",
   "execution_count": null,
   "metadata": {},
   "outputs": [],
   "source": [
    "# Embryonic ectoderm => TXT51-like \n",
    "sc.pl.umap(adata,color=['NV2g004249000.1'],size=20,ncols=2,color_map = 'viridis') "
   ]
  },
  {
   "cell_type": "code",
   "execution_count": null,
   "metadata": {},
   "outputs": [],
   "source": [
    "# Embryonic endomesoderm => NvSnailB\n",
    "sc.pl.umap(adata,color=['NV2g024886000.1'],size=20,ncols=2,color_map = 'viridis') \n",
    "embryonic_mesoderm_markers = cluster_markers(significant_markers,['6']) "
   ]
  },
  {
   "cell_type": "code",
   "execution_count": null,
   "metadata": {},
   "outputs": [],
   "source": [
    "# Embryonic endomesoderm\n",
    "sc.pl.umap(adata,color=['NV2g008037000.1','NV2g023418000.1','NV2g016313000.1','NV2g014212000.1','NV2g016600000.1','NV2g014143000.1'],size=20,ncols=2,color_map = 'viridis') "
   ]
  },
  {
   "cell_type": "code",
   "execution_count": null,
   "metadata": {},
   "outputs": [],
   "source": [
    "# Endomesoderm\n",
    "sc.pl.umap(adata,color=['NV2g019682000.1','NV2g019627000.1','NV2g003734000.1','NV2g010172000.1'],size=20,ncols=2,color_map = 'viridis') "
   ]
  },
  {
   "cell_type": "code",
   "execution_count": null,
   "metadata": {},
   "outputs": [],
   "source": [
    "# Pharyngeal ectoderm => NvFoxA\n",
    "sc.pl.umap(adata,color=[\"NV2g011441000.1\",\"NV2g007354000.1\",\"NV2g022761000.1\",\"NV2g020247000.1\",\"NV2g007661000.1\",\"NV2g019607000.1\",\"NV2g012087000.1\",\"NV2g001654000.1\",\"NV2g025421000.1\"],size=20,ncols=2,color_map = 'viridis')\n",
    "pharyngeal_ectoderm_markers = cluster_markers(significant_markers,['1','2','3','15'])  "
   ]
  },
  {
   "cell_type": "code",
   "execution_count": null,
   "metadata": {},
   "outputs": [],
   "source": [
    "# Ectoderm epidermis\n",
    "sc.pl.umap(adata,color=['NV2g013603000.1'],size=20,ncols=2,color_map = 'viridis')"
   ]
  },
  {
   "cell_type": "code",
   "execution_count": null,
   "metadata": {},
   "outputs": [],
   "source": [
    "# Gastroderm => FRIS-like4\n",
    "sc.pl.umap(adata,color=['NV2g009345000.1'],size=20,ncols=2,color_map = 'viridis') "
   ]
  },
  {
   "cell_type": "code",
   "execution_count": null,
   "metadata": {},
   "outputs": [],
   "source": [
    "# Retractor muscle => Nve-Tpm2 \n",
    "sc.pl.umap(adata,color=['NV2g019134000.1','NV2g017681000.1'],size=20,ncols=2,color_map = 'viridis') "
   ]
  },
  {
   "cell_type": "code",
   "execution_count": null,
   "metadata": {},
   "outputs": [],
   "source": [
    "# NPC => NvSoxB.2  \n",
    "sc.pl.umap(adata,color=['NV2g004477000.1','NV2g013863000.1','NV2g017090000.1','NV2g015516000.1'],size=20,ncols=2,color_map = 'viridis') "
   ]
  },
  {
   "cell_type": "code",
   "execution_count": null,
   "metadata": {},
   "outputs": [],
   "source": [
    "# Neuronal => NvAshA\n",
    "sc.pl.umap(adata,color=['NV2g009665000.1'],size=20,ncols=2,color_map = 'viridis') \n",
    "neuronal_markers = cluster_markers(significant_markers,['5']) \n",
    "save_markers(neuronal_markers,outputPath,\"neuronal\")"
   ]
  },
  {
   "cell_type": "code",
   "execution_count": null,
   "metadata": {},
   "outputs": [],
   "source": [
    "# Secretory => VKT52-like\n",
    "sc.pl.umap(adata,color=['NV2g008165000.1'],size=20,ncols=2,color_map = 'viridis') \n",
    "secretory_markers = cluster_markers(significant_markers,['23']) \n",
    "save_markers(secretory_markers,outputPath,\"secretory\")"
   ]
  },
  {
   "cell_type": "code",
   "execution_count": null,
   "metadata": {},
   "outputs": [],
   "source": [
    "# Mucous gland \n",
    "sc.pl.umap(adata,color=['NV2g012902000.1'],size=20,ncols=2,color_map = 'viridis') # C8 (mucin)\n",
    "mucous_markers = cluster_markers(significant_markers,['13'])\n",
    "save_markers(mucous_markers,outputPath,\"mucous\") "
   ]
  },
  {
   "cell_type": "code",
   "execution_count": null,
   "metadata": {},
   "outputs": [],
   "source": [
    "# Cnidocyte => EVA1C-like3\n",
    "sc.pl.umap(adata,color=['NV2g005200000.1'],size=20,ncols=2,color_map = 'viridis')\n",
    "cnidocyte_markers = cluster_markers(significant_markers,['7','9']) \n",
    "save_markers(cnidocyte_markers,outputPath,\"cnidocyte\")"
   ]
  },
  {
   "cell_type": "code",
   "execution_count": null,
   "metadata": {},
   "outputs": [],
   "source": [
    "# Mature cnidocyte => FOS-like\n",
    "sc.pl.umap(adata,color=['NV2g019749000.1'],size=20,ncols=2,color_map = 'viridis') \n",
    "cnidocyte_mature_markers = cluster_markers(significant_markers,['14']) \n",
    "save_markers(cnidocyte_mature_markers,outputPath,\"mature_cnidocyte\")"
   ]
  },
  {
   "cell_type": "code",
   "execution_count": null,
   "metadata": {},
   "outputs": [],
   "source": [
    "# Smooth muscle => Calponin\n",
    "sc.pl.umap(adata,color=['NV2g009314000.1'],size=20,ncols=2,color_map = 'viridis') "
   ]
  },
  {
   "cell_type": "code",
   "execution_count": null,
   "metadata": {},
   "outputs": [],
   "source": [
    "sc.tl.paga(adata, groups='leiden')"
   ]
  },
  {
   "cell_type": "code",
   "execution_count": null,
   "metadata": {},
   "outputs": [],
   "source": [
    "adata.obs['leiden_anno'] = adata.obs['leiden']"
   ]
  },
  {
   "cell_type": "code",
   "execution_count": null,
   "metadata": {},
   "outputs": [],
   "source": [
    "adata.obs['leiden_anno'].cat.categories = ['0', '1', '2', '3', '4', '5', '6', '7', '8', '9', '10', '11', '12','13', '14', '15', '16', '17', '18', '19', '20','21']"
   ]
  },
  {
   "cell_type": "code",
   "execution_count": null,
   "metadata": {},
   "outputs": [],
   "source": [
    "sc.settings.set_figure_params(dpi=80, facecolor='white')"
   ]
  },
  {
   "cell_type": "code",
   "execution_count": null,
   "metadata": {},
   "outputs": [],
   "source": [
    "sc.pl.paga(adata, threshold=0.03, show=False,fontsize=9,edge_width_scale=0.5)"
   ]
  },
  {
   "cell_type": "code",
   "execution_count": null,
   "metadata": {},
   "outputs": [],
   "source": [
    "sc.pl.umap(adata, color=['leiden','NV2g016733000.1'], legend_loc= 'on data')"
   ]
  },
  {
   "cell_type": "code",
   "execution_count": null,
   "metadata": {},
   "outputs": [],
   "source": [
    "cluster_markers(significant_markers,['14'])"
   ]
  },
  {
   "cell_type": "code",
   "execution_count": null,
   "metadata": {},
   "outputs": [],
   "source": [
    "adata.obs['leiden_anno'].cat.categories = [\"0 - Gastrodermis\",\"1 - Ectodermis\",\"2 - Pharyngeal ectodermis\",\"3 - Pharyngeal ectodermis\",\"4 - Epidermis\",\"5 - Neurons\",\"6 - Ectodermis\",\"7 - Cnidocytes\",\"8 - Smooth muscle\",\"9 - Differentiating cnidocytes\",\"10 - NPC\",\"11 - Ectodermis\",\"12 - Retractor muscle\",\"13 - Mucous gland cells\",\"14 - Mature cnidocytes\",\"15 - Pharyngeal ectoderm\",\"16 - Secretory cells\",\"17 - Secretory cells\",\"18 - Gastrodermis\",\"19 - ?\",\"20 - Secretory cells\",\"21 - ? (Neurons-like cells)\"]"
   ]
  },
  {
   "cell_type": "code",
   "execution_count": null,
   "metadata": {},
   "outputs": [],
   "source": [
    "sc.settings.set_figure_params(dpi=90, facecolor='white')\n",
    "sc.pl.umap(adata, color=['NV2g009911000.1','NV2g024306000.1','NV2g024303000.1','NV2g020231000.1','NV2g011180000.1','NV2g009892000.1','NV2g009676000.1','NV2g025037000.1','NV2g011361000.1','NV2g012780000.1','NV2g010021000.1','NV2g015150000.1','NV2g014334000.1','NV2g015152000.1','NV2g012332000.1','NV2g003480000.1','NV2g023244000.1','NV2g024221000.1','NV2g024302000.1','NV2g023245000.1','NV2g020252000.1','leiden_anno'],frameon=False,save=\"synaptoNvPolyp.pdf\")"
   ]
  },
  {
   "cell_type": "code",
   "execution_count": null,
   "metadata": {},
   "outputs": [],
   "source": [
    "sc.settings.set_figure_params(dpi=150, facecolor='white')\n",
    "sc.pl.umap(adata,title='Nematostella polyp\\nRBH - one2one - orthopairsBased', color=['leiden'], legend_loc= 'on data', legend_fontsize=6, legend_fontoutline=3, palette={\"0\":\"#E2E2E2\", \"1\":\"#E2E2E2\", \"2\":\"#E2E2E2\", \"3\":\"#E2E2E2\", \"4\":\"#E2E2E2\", \"5\":\"#E2E2E2\", \"6\":\"#E2E2E2\", \"7\":\"#A366E0\", \"8\":\"#E2E2E2\", \"9\":\"#A366E0\", \"10\":\"#E2E2E2\", \"11\":\"#E2E2E2\", \"12\":\"#E2E2E2\", \"13\":\"#E2E2E2\", \"14\":\"#A366E0\", \"15\":\"#E2E2E2\", \"16\":\"#E2E2E2\", \"17\":\"#E2E2E2\", \"18\":\"#E2E2E2\",\"19\":\"#E2E2E2\",\"20\":\"#E2E2E2\",\"21\":\"#E2E2E2\"}, frameon=False)"
   ]
  },
  {
   "cell_type": "code",
   "execution_count": null,
   "metadata": {},
   "outputs": [],
   "source": [
    "sc.pl.umap(adata,title='Nematostella polyp\\n RBH - many2many - orthopairsBased', color=['leiden'], legend_loc= 'on data', legend_fontsize=6, legend_fontoutline=3, palette={\"0\":\"#E2E2E2\", \"1\":\"#E2E2E2\", \"2\":\"#E2E2E2\", \"3\":\"#E2E2E2\", \"4\":\"#E2E2E2\", \"5\":\"#E2E2E2\", \"6\":\"#E2E2E2\", \"7\":\"#A366E0\", \"8\":\"#E2E2E2\", \"9\":\"#A366E0\", \"10\":\"#E2E2E2\", \"11\":\"#E2E2E2\", \"12\":\"#E2E2E2\", \"13\":\"#E2E2E2\", \"14\":\"#A366E0\", \"15\":\"#E2E2E2\", \"16\":\"#E2E2E2\", \"17\":\"#E2E2E2\", \"18\":\"#E2E2E2\",\"19\":\"#E2E2E2\",\"20\":\"#E2E2E2\",\"21\":\"#E2E2E2\"}, frameon=False)"
   ]
  },
  {
   "cell_type": "code",
   "execution_count": null,
   "metadata": {},
   "outputs": [],
   "source": [
    "sc.pl.umap(adata,title='Nematostella polyp\\nOrthoFinder - many2many - orthopairsBased', color=['leiden'], legend_loc= 'on data', legend_fontsize=6, legend_fontoutline=3, palette={\"0\":\"#E2E2E2\", \"1\":\"#E2E2E2\", \"2\":\"#E2E2E2\", \"3\":\"#E2E2E2\", \"4\":\"#E2E2E2\", \"5\":\"#E2E2E2\", \"6\":\"#E2E2E2\", \"7\":\"#A366E0\", \"8\":\"#E2E2E2\", \"9\":\"#A366E0\", \"10\":\"#E2E2E2\", \"11\":\"#E2E2E2\", \"12\":\"#E2E2E2\", \"13\":\"#E2E2E2\", \"14\":\"#A366E0\", \"15\":\"#E2E2E2\", \"16\":\"#E2E2E2\", \"17\":\"#E2E2E2\", \"18\":\"#E2E2E2\",\"19\":\"#E2E2E2\",\"20\":\"#E2E2E2\",\"21\":\"#E2E2E2\"}, frameon=False)"
   ]
  },
  {
   "cell_type": "code",
   "execution_count": null,
   "metadata": {},
   "outputs": [],
   "source": [
    "sc.pl.umap(adata,title='Nematostella polyp\\nOrthoFinder - many2many - genomeBased', color=['leiden'], legend_loc= 'on data', legend_fontsize=6, legend_fontoutline=3, palette={\"0\":\"#E2E2E2\", \"1\":\"#E2E2E2\", \"2\":\"#E2E2E2\", \"3\":\"#E2E2E2\", \"4\":\"#E2E2E2\", \"5\":\"#E2E2E2\", \"6\":\"#E2E2E2\", \"7\":\"#A366E0\", \"8\":\"#E2E2E2\", \"9\":\"#A366E0\", \"10\":\"#E2E2E2\", \"11\":\"#E2E2E2\", \"12\":\"#E2E2E2\", \"13\":\"#E2E2E2\", \"14\":\"#A366E0\", \"15\":\"#E2E2E2\", \"16\":\"#E2E2E2\", \"17\":\"#E2E2E2\", \"18\":\"#E2E2E2\",\"19\":\"#E2E2E2\",\"20\":\"#E2E2E2\",\"21\":\"#E2E2E2\"}, frameon=False)"
   ]
  },
  {
   "cell_type": "code",
   "execution_count": null,
   "metadata": {},
   "outputs": [],
   "source": [
    "sc.pl.umap(adata,title='Nematostella polyp\\nRBH - one2one - orthopairsBased', color=['leiden'], legend_loc= 'on data', legend_fontsize=6, legend_fontoutline=3, palette={\"0\":\"#E2E2E2\", \"1\":\"#E2E2E2\", \"2\":\"#E2E2E2\", \"3\":\"#E2E2E2\", \"4\":\"#E2E2E2\", \"5\":\"#0080ff\", \"6\":\"#E2E2E2\", \"7\":\"#E2E2E2\", \"8\":\"#E2E2E2\", \"9\":\"#E2E2E2\", \"10\":\"#E2E2E2\", \"11\":\"#E2E2E2\", \"12\":\"#E2E2E2\", \"13\":\"#E2E2E2\", \"14\":\"#E2E2E2\", \"15\":\"#E2E2E2\", \"16\":\"#E2E2E2\", \"17\":\"#E2E2E2\", \"18\":\"#E2E2E2\",\"19\":\"#E2E2E2\",\"20\":\"#E2E2E2\",\"21\":\"#E2E2E2\"}, frameon=False)"
   ]
  },
  {
   "cell_type": "code",
   "execution_count": null,
   "metadata": {},
   "outputs": [],
   "source": [
    "sc.pl.umap(adata,title='Nematostella polyp\\nRBH - many2many - orthopairsBased', color=['leiden'], legend_loc= 'on data', legend_fontsize=6, legend_fontoutline=3, palette={\"0\":\"#E2E2E2\", \"1\":\"#E2E2E2\", \"2\":\"#E2E2E2\", \"3\":\"#E2E2E2\", \"4\":\"#0080ff\", \"5\":\"#0080ff\", \"6\":\"#E2E2E2\", \"7\":\"#E2E2E2\", \"8\":\"#E2E2E2\", \"9\":\"#E2E2E2\", \"10\":\"#0080ff\", \"11\":\"#E2E2E2\", \"12\":\"#0080ff\", \"13\":\"#E2E2E2\", \"14\":\"#0080ff\", \"15\":\"#E2E2E2\", \"16\":\"#E2E2E2\", \"17\":\"#E2E2E2\", \"18\":\"#E2E2E2\",\"19\":\"#E2E2E2\",\"20\":\"#E2E2E2\",\"21\":\"#E2E2E2\"}, frameon=False)"
   ]
  },
  {
   "cell_type": "code",
   "execution_count": null,
   "metadata": {},
   "outputs": [],
   "source": [
    "sc.pl.umap(adata,title='Nematostella polyp\\nOrthoFinder - many2many - orthopairsBased', color=['leiden'], legend_loc= 'on data', legend_fontsize=6, legend_fontoutline=3, palette={\"0\":\"#E2E2E2\", \"1\":\"#E2E2E2\", \"2\":\"#E2E2E2\", \"3\":\"#E2E2E2\", \"4\":\"#0080ff\", \"5\":\"#0080ff\", \"6\":\"#E2E2E2\", \"7\":\"#E2E2E2\", \"8\":\"#E2E2E2\", \"9\":\"#E2E2E2\", \"10\":\"#E2E2E2\", \"11\":\"#E2E2E2\", \"12\":\"#0080ff\", \"13\":\"#E2E2E2\", \"14\":\"#0080ff\", \"15\":\"#E2E2E2\", \"16\":\"#E2E2E2\", \"17\":\"#E2E2E2\", \"18\":\"#E2E2E2\",\"19\":\"#E2E2E2\",\"20\":\"#E2E2E2\",\"21\":\"#E2E2E2\"}, frameon=False)"
   ]
  },
  {
   "cell_type": "code",
   "execution_count": null,
   "metadata": {},
   "outputs": [],
   "source": [
    "sc.pl.umap(adata,title='Nematostella polyp\\nOrthoFinder - many2many - genomeBased', color=['leiden'], legend_loc= 'on data', legend_fontsize=6, legend_fontoutline=3, palette={\"0\":\"#E2E2E2\", \"1\":\"#E2E2E2\", \"2\":\"#E2E2E2\", \"3\":\"#E2E2E2\", \"4\":\"#0080ff\", \"5\":\"#0080ff\", \"6\":\"#E2E2E2\", \"7\":\"#E2E2E2\", \"8\":\"#E2E2E2\", \"9\":\"#E2E2E2\", \"10\":\"#E2E2E2\", \"11\":\"#E2E2E2\", \"12\":\"#0080ff\", \"13\":\"#E2E2E2\", \"14\":\"#0080ff\", \"15\":\"#E2E2E2\", \"16\":\"#E2E2E2\", \"17\":\"#E2E2E2\", \"18\":\"#E2E2E2\",\"19\":\"#E2E2E2\",\"20\":\"#E2E2E2\",\"21\":\"#E2E2E2\"}, frameon=False)"
   ]
  }
 ],
 "metadata": {
  "kernelspec": {
   "display_name": "base",
   "language": "python",
   "name": "python3"
  },
  "language_info": {
   "codemirror_mode": {
    "name": "ipython",
    "version": 3
   },
   "file_extension": ".py",
   "mimetype": "text/x-python",
   "name": "python",
   "nbconvert_exporter": "python",
   "pygments_lexer": "ipython3",
   "version": "3.9.13"
  },
  "orig_nbformat": 4,
  "vscode": {
   "interpreter": {
    "hash": "590cc60462d9e876bb62dbcb54d1b8f6d55d8eaa56a93ac2a00a0bb21e4ff522"
   }
  }
 },
 "nbformat": 4,
 "nbformat_minor": 2
}
