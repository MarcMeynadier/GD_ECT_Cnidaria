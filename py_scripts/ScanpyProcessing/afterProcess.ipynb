{
 "cells": [
  {
   "cell_type": "code",
   "execution_count": null,
   "metadata": {},
   "outputs": [],
   "source": [
    "import numpy as np\n",
    "import anndata\n",
    "import pandas as pd\n",
    "import scanpy as sc\n",
    "import scipy.sparse\n",
    "import scanpy.external as sce\n",
    "import os\n",
    "import pickle\n",
    "\n",
    "import warnings\n",
    "warnings.filterwarnings('ignore')\n",
    "\n",
    "from sklearn.neighbors import (KNeighborsClassifier,NeighborhoodComponentsAnalysis)\n",
    "from sklearn.pipeline import Pipeline\n",
    "from sklearn.manifold import TSNE\n",
    "\n",
    "import matplotlib.pyplot as plt\n",
    "from matplotlib import rcParams\n",
    "#import plotly.tools as tls\n",
    "\n",
    "import seaborn as sns\n",
    "sns.set(style=\"whitegrid\")\n",
    "\n",
    "import collections\n",
    "import scipy.sparse as sp_sparse\n",
    "import h5py"
   ]
  },
  {
   "cell_type": "code",
   "execution_count": null,
   "metadata": {},
   "outputs": [],
   "source": [
    "sc.logging.print_header()\n",
    "sc.settings.set_figure_params(dpi=120, facecolor='white')"
   ]
  },
  {
   "cell_type": "code",
   "execution_count": null,
   "metadata": {},
   "outputs": [],
   "source": [
    "# Loading h5ad\n",
    "\n",
    "ClytiaMedusa=sc.read_h5ad('/Users/mmeynadier/Documents/PhD/species/Clytia/analysis/ScanPy/Clytia_medusa.h5ad')\n",
    "ClytiaPlanula=sc.read_h5ad('/Users/mmeynadier/Documents/PhD/species/Clytia/analysis/ScanPy/Clytia_planula.h5ad')\n",
    "NematostellaPolyp=sc.read_h5ad('/Users/mmeynadier/Documents/PhD/species/Nematostella/analysis/ScanPy/Nematostella_polyp.h5ad')\n",
    "NematostellaPlanula=sc.read_h5ad('/Users/mmeynadier/Documents/PhD/species/Nematostella/analysis/ScanPy/Nematostella_planula.h5ad')\n",
    "HydractiniaPolyp=sc.read_h5ad('/Users/mmeynadier/Documents/PhD/species/Hydractinia/analysis/ScanPy/Hydractinia_polyp.h5ad')\n",
    "HydraPolyp=sc.read_h5ad('/Users/mmeynadier/Documents/PhD/species/Hydra/analysis/ScanPy/Hydra_polyp.h5ad')\n",
    "XeniaPolyp=sc.read_h5ad('/Users/mmeynadier/Documents/PhD/species/Xenia/analysis/ScanPy/Xenia_polyp.h5ad')"
   ]
  },
  {
   "cell_type": "code",
   "execution_count": null,
   "metadata": {},
   "outputs": [],
   "source": [
    "# UMAPs\n",
    "\n",
    "sc.pl.umap(ClytiaMedusa, color=['leiden'],title='Clytia medusa',legend_loc= 'on data')\n",
    "sc.pl.umap(ClytiaPlanula, color=['leiden'],title='Clytia planula',legend_loc= 'on data')\n",
    "sc.pl.umap(NematostellaPolyp, color=['leiden'],title='Nematostella polyp',legend_loc= 'on data')\n",
    "sc.pl.umap(NematostellaPlanula, color=['leiden'],title='Nematostella planula',legend_loc= 'on data')\n",
    "sc.pl.umap(HydractiniaPolyp, color=['leiden'],title='Hydractinia polyp',legend_loc= 'on data')\n",
    "sc.pl.umap(HydraPolyp, color=['leiden'],title='Hydra polyp',legend_loc= 'on data')\n",
    "sc.pl.umap(XeniaPolyp, color=['leiden'],title='Xenia polyp',legend_loc= 'on data')"
   ]
  },
  {
   "cell_type": "code",
   "execution_count": null,
   "metadata": {},
   "outputs": [],
   "source": [
    "# Cnidocytes Clytia medusa\n",
    "sc.pl.umap(ClytiaMedusa,color=['XLOC_000973','XLOC_039010','XLOC_039385','XLOC_044122','XLOC_004102','XLOC_019953','XLOC_021311'],title=['Hornerin-like','Nematogalectin','Carboxypeptidase','Ncol1','NematocilinA','ARNSTNd2-like','Trichohyalin-like'])"
   ]
  },
  {
   "cell_type": "code",
   "execution_count": null,
   "metadata": {},
   "outputs": [],
   "source": [
    "# Cnidocytes Clytia planula \n",
    "sc.pl.umap(ClytiaPlanula,color=['XLOC_000973','XLOC_039010','XLOC_039385','XLOC_044122','XLOC_004102','XLOC_019953','XLOC_021311'],title=['Hornerin-like','Nematogalectin','Carboxypeptidase','Ncol1','NematocilinA','ARNSTNd2-like','Trichohyalin-like'])"
   ]
  },
  {
   "cell_type": "code",
   "execution_count": null,
   "metadata": {},
   "outputs": [],
   "source": [
    "# Cnidocytes Nematostella polyp\n",
    "sc.pl.umap(NematostellaPolyp,color=['LOC116620696','LOC5519515','LOC5513584','LOC5507408','LOC5511471','LOC5510454','LOC116613705'],title=['Hornerin-like','Nematogalectin','Carboxypeptidase','Ncol1','NematocilinA','ARNSTNd2-like','Trichohyalin-like'])"
   ]
  },
  {
   "cell_type": "code",
   "execution_count": null,
   "metadata": {},
   "outputs": [],
   "source": [
    "# Cnidocytes Nematostella planula \n",
    "sc.pl.umap(NematostellaPlanula,color=['LOC5519515','LOC5513584','LOC5507408','LOC5511471','LOC5510454','LOC116613705'],title=['Nematogalectin','Carboxypeptidase','Ncol1','NematocilinA','ARNSTNd2-like','Trichohyalin-like'])"
   ]
  },
  {
   "cell_type": "code",
   "execution_count": null,
   "metadata": {},
   "outputs": [],
   "source": [
    "# Cnidocytes Hydractinia polyp \n",
    "sc.pl.umap(HydractiniaPolyp, color=['LOC130653621','LOC130613414','LOC130613414','LOC130622551','LOC130612901','LOC130644310','LOC130662747'],title=['Hornerin-like','Nematogalectin','Carboxypeptidase','Ncol1','NematocilinA','ARNSTNd2-like','Trichohyalin-like'])"
   ]
  },
  {
   "cell_type": "code",
   "execution_count": null,
   "metadata": {},
   "outputs": [],
   "source": [
    "# Cnidocytes Hydra polyp \n",
    "sc.pl.umap(HydraPolyp,color=['LOC100214209','LOC100212904','LOC100211434','LOC105843261','LOC100192251','LOC105845076','LOC100211279'],title=['Hornerin-like','Nematogalectin','Carboxypeptidase','Ncol1','NematocilinA','ARNSTNd2-like','Trichohyalin-like'])"
   ]
  },
  {
   "cell_type": "code",
   "execution_count": null,
   "metadata": {},
   "outputs": [],
   "source": [
    "# Cnidocytes Xenia polyp \n",
    "sc.pl.umap(XeniaPolyp,color=['LOC124439568','LOC124436187','LOC124445638','LOC124453624','LOC124446778','LOC124445450','LOC124445150'],title=['Hornerin-like','Nematogalectin','Carboxypeptidase','Ncol1','NematocilinA','ARNSTNd2-like','Trichohyalin-like'])"
   ]
  },
  {
   "cell_type": "code",
   "execution_count": null,
   "metadata": {},
   "outputs": [],
   "source": [
    "# Neurons Clytia medusa \n",
    "sc.pl.umap(ClytiaMedusa,color=['XLOC_001566','XLOC_029731','XLOC_004785','XLOC_030971','XLOC_042410'],title=['Calmodulin','Synaptotagmin5','ELAV1','ELAV2','Voltage-gated sodium channel'],color_map = 'viridis')"
   ]
  },
  {
   "cell_type": "code",
   "execution_count": null,
   "metadata": {},
   "outputs": [],
   "source": [
    "# Neurons Clytia planula \n",
    "sc.pl.umap(ClytiaPlanula,color=['XLOC_001566','XLOC_029731','XLOC_004785','XLOC_030971','XLOC_042410'],title=['Calmodulin','Synaptotagmin5','ELAV1','ELAV2','Voltage-gated sodium channel'],color_map = 'viridis')"
   ]
  },
  {
   "cell_type": "code",
   "execution_count": null,
   "metadata": {},
   "outputs": [],
   "source": [
    "# Neurons Nematostella polyp\n",
    "sc.pl.umap(NematostellaPolyp,color=['LOC116603362','LOC5504261','LOC5506254','LOC5506254','LOC116601368'],title=['Calmodulin','Synaptotagmin5','ELAV1','ELAV2','Voltage-gated sodium channel'],color_map = 'viridis')"
   ]
  },
  {
   "cell_type": "code",
   "execution_count": null,
   "metadata": {},
   "outputs": [],
   "source": [
    "# Neurons Nematostella planula\n",
    "sc.pl.umap(NematostellaPlanula,color=['LOC116603362','LOC5504261','LOC5506254','LOC5506254','LOC116601368'],title=['Calmodulin','Synaptotagmin5','ELAV1','ELAV2','Voltage-gated sodium channel'],color_map = 'viridis')"
   ]
  },
  {
   "cell_type": "code",
   "execution_count": null,
   "metadata": {},
   "outputs": [],
   "source": [
    "# Neurons Hydractinia polyp\n",
    "sc.pl.umap(HydractiniaPolyp,color=['LOC130641492','LOC130612250','LOC130612043','LOC130630562','LOC130643369'],title=['Calmodulin','Synaptotagmin5','ELAV1','ELAV2','Voltage-gated sodium channel'],color_map = 'viridis')"
   ]
  },
  {
   "cell_type": "code",
   "execution_count": null,
   "metadata": {},
   "outputs": [],
   "source": [
    "# Neurons Hydra polyp\n",
    "sc.pl.umap(HydraPolyp,color=['LOC100208382','LOC100202664','LOC100211523','LOC100210863','LOC100210184'],title=['Calmodulin','Synaptotagmin5','ELAV1','ELAV2','Voltage-gated sodium channel'],color_map = 'viridis')"
   ]
  },
  {
   "cell_type": "code",
   "execution_count": null,
   "metadata": {},
   "outputs": [],
   "source": [
    "# Neurons Xenia polyp\n",
    "sc.pl.umap(XeniaPolyp,color=['LOC124442994','LOC124440272','LOC124452251','LOC124452251','LOC124441205'],title=['Calmodulin','Synaptotagmin5','ELAV1','ELAV2','Voltage-gated sodium channel'],color_map = 'viridis')"
   ]
  },
  {
   "cell_type": "code",
   "execution_count": null,
   "metadata": {},
   "outputs": [],
   "source": [
    "# NPC Clytia medusa\n",
    "sc.pl.umap(ClytiaMedusa,color=['XLOC_018937','XLOC_030920'],title=['Neurogenin','HLH6'])"
   ]
  },
  {
   "cell_type": "code",
   "execution_count": null,
   "metadata": {},
   "outputs": [],
   "source": [
    "# NPC Clytia planula\n",
    "sc.pl.umap(ClytiaPlanula,color=['XLOC_018937','XLOC_030920'],title=['Neurogenin','HLH6'])"
   ]
  },
  {
   "cell_type": "code",
   "execution_count": null,
   "metadata": {},
   "outputs": [],
   "source": [
    "# NPC Nematostella polyp\n",
    "sc.pl.umap(NematostellaPolyp,color=['LOC116614881'],title=['HLH6']) "
   ]
  },
  {
   "cell_type": "code",
   "execution_count": null,
   "metadata": {},
   "outputs": [],
   "source": [
    "# NPC Nematostella planula\n",
    "sc.pl.umap(NematostellaPlanula,color=['LOC5507713','LOC116614881'],title=['Neurogenin','HLH6'])"
   ]
  },
  {
   "cell_type": "code",
   "execution_count": null,
   "metadata": {},
   "outputs": [],
   "source": [
    "# NPC Hydra polyp\n",
    "sc.pl.umap(HydraPolyp,color=['LOC124814704','LOC101239434'],title=['Neurogenin','HLH6'])"
   ]
  },
  {
   "cell_type": "code",
   "execution_count": null,
   "metadata": {},
   "outputs": [],
   "source": [
    "# NPC Xenia polyp\n",
    "sc.pl.umap(XeniaPolyp,color=['LOC124452510','LOC124453138'],title=['Neurogenin','HLH6'])"
   ]
  },
  {
   "cell_type": "code",
   "execution_count": null,
   "metadata": {},
   "outputs": [],
   "source": [
    "# Significantly expressed genes\n",
    "ClytiaMedusaGenes = pd.read_csv('/Users/mmeynadier/Documents/PhD/species/Clytia/analysis/ScanPy/Clytia_medusa_markers_1000g.csv',sep='\\t')\n",
    "ClytiaPlanulaGenes = pd.read_csv('/Users/mmeynadier/Documents/PhD/species/Clytia/analysis/ScanPy/Clytia_planula_markers_1000g.csv',sep='\\t')\n",
    "NematostellaPlanulaGenes = pd.read_csv('/Users/mmeynadier/Documents/PhD/species/Nematostella/analysis/ScanPy/Nematostella_planula_markers_1000g.csv',sep='\\t')\n",
    "XeniaPolypGenes = pd.read_csv('/Users/mmeynadier/Documents/PhD/species/Xenia/analysis/ScanPy/Xenia_polyp_markers_1000g.csv',sep='\\t')\n",
    "HydraPolypGenes = pd.read_csv('/Users/mmeynadier/Documents/PhD/species/Hydra/analysis/ScanPy/Hydra_polyp_markers_1000g.csv',sep='\\t') "
   ]
  },
  {
   "cell_type": "code",
   "execution_count": null,
   "metadata": {},
   "outputs": [],
   "source": [
    "# Test genes\n",
    "elements = NematostellaPlanulaGenes.loc[NematostellaPlanulaGenes[\"clus\"] == 7,\"markerGene\"].tolist()\n",
    "#print(elements)\n",
    "if \"LOC116613705\" in elements:\n",
    "    print(\"yes\")\n",
    "else:\n",
    "    print(\"no\")"
   ]
  },
  {
   "cell_type": "code",
   "execution_count": null,
   "metadata": {},
   "outputs": [],
   "source": [
    "# Test Clytia medusa\n",
    "sc.pl.umap(ClytiaMedusa,color=['XLOC_039365'])"
   ]
  },
  {
   "cell_type": "code",
   "execution_count": null,
   "metadata": {},
   "outputs": [],
   "source": [
    "# Test Clytia planula\n",
    "sc.pl.umap(ClytiaPlanula,color=['XLOC_000973'])"
   ]
  },
  {
   "cell_type": "code",
   "execution_count": null,
   "metadata": {},
   "outputs": [],
   "source": [
    "# Test Nematostella planula\n",
    "sc.pl.umap(NematostellaPlanula,color=['LOC5514592'])"
   ]
  },
  {
   "cell_type": "code",
   "execution_count": null,
   "metadata": {},
   "outputs": [],
   "source": [
    "# Test Hydra polyp\n",
    "sc.pl.umap(HydraPolyp,color=['LOC100212344'])\n",
    "sc.pl.umap(HydraPolyp,color=['LOC100201149','LOC100204357','LOC105847916'])"
   ]
  },
  {
   "cell_type": "code",
   "execution_count": null,
   "metadata": {},
   "outputs": [],
   "source": [
    "# Test Hydractinia polyp\n",
    "sc.pl.umap(HydractiniaPolyp,color=['LOC130629143','LOC130622551','LOC130628820','LOC130629545','LOC130612358','LOC130655188'])\n",
    "print()"
   ]
  },
  {
   "cell_type": "code",
   "execution_count": null,
   "metadata": {},
   "outputs": [],
   "source": [
    "# Test Xenia polyp\n",
    "sc.pl.umap(XeniaPolyp,color=['LOC124439569'])\n",
    "sc.pl.umap(XeniaPolyp,color=['LOC124439244','LOC124449365'])"
   ]
  },
  {
   "cell_type": "code",
   "execution_count": null,
   "metadata": {},
   "outputs": [],
   "source": [
    "# Brightning test\n",
    "sc.pl.umap(HydractiniaPolyp,title='Hydractinia polyp\\nRBH - one2one - orthopairsBased', color=['leiden'], legend_loc= 'on data', legend_fontsize=6, legend_fontoutline=3, palette={\"0\":\"#E2E2E2\", \"1\":\"#E2E2E2\", \"2\":\"#0080ff\", \"3\":\"#E2E2E2\", \"4\":\"#E2E2E2\", \"5\":\"#E2E2E2\", \"6\":\"#E2E2E2\", \"7\":\"#E2E2E2\", \"8\":\"#E2E2E2\", \"9\":\"#E2E2E2\", \"10\":\"#0080ff\", \"11\":\"#0080ff\", \"12\":\"#E2E2E2\", \"13\":\"#E2E2E2\", \"14\":\"#0080ff\", \"15\":\"#0080ff\", \"16\":\"#0080ff\", \"17\":\"#E2E2E2\", \"18\":\"#0080ff\",\"19\":\"#E2E2E2\",\"20\":\"#E2E2E2\",\"21\":\"#E2E2E2\",\"21\":\"#E2E2E2\",\"22\":\"#0080ff\",\"23\":\"#E2E2E2\",\"24\":\"#E2E2E2\",\"25\":\"#0080ff\",\"26\":\"#E2E2E2\",\"27\":\"#E2E2E2\",\"28\":\"#E2E2E2\",\"29\":\"#E2E2E2\",\"30\":\"#E2E2E2\"}, frameon=False)\n",
    "sc.pl.umap(HydraPolyp,title='Hydra polyp\\nRBH - one2one - orthopairsBased', color=['leiden'], legend_loc= 'on data', legend_fontsize=6, legend_fontoutline=3, palette={\"0\":\"#E2E2E2\", \"1\":\"#E2E2E2\", \"2\":\"#E2E2E2\", \"3\":\"#E2E2E2\", \"4\":\"#E2E2E2\", \"5\":\"#E2E2E2\", \"6\":\"#E2E2E2\", \"7\":\"#E2E2E2\", \"8\":\"#0080ff\", \"9\":\"#E2E2E2\", \"10\":\"#0080ff\", \"11\":\"#E2E2E2\", \"12\":\"#E2E2E2\", \"13\":\"#0080ff\", \"14\":\"#E2E2E2\", \"15\":\"#E2E2E2\", \"16\":\"#E2E2E2\", \"17\":\"#E2E2E2\", \"18\":\"#E2E2E2\",\"19\":\"#E2E2E2\",\"20\":\"#0080ff\",\"21\":\"#0080ff\",\"22\":\"#E2E2E2\",\"23\":\"#E2E2E2\",\"24\":\"#E2E2E2\",\"25\":\"#E2E2E2\",\"26\":\"#E2E2E2\",\"27\":\"#E2E2E2\",\"28\":\"#E2E2E2\",\"29\":\"#E2E2E2\",\"30\":\"#E2E2E2\",\"31\":\"#E2E2E2\",\"32\":\"#E2E2E2\",\"33\":\"#E2E2E2\",\"34\":\"#E2E2E2\"}, frameon=False)"
   ]
  },
  {
   "cell_type": "code",
   "execution_count": null,
   "metadata": {},
   "outputs": [],
   "source": [
    "sc.pl.umap(ClytiaMedusa,title='Clytia medusa\\nCnidocytes', color=['leiden'], legend_loc= 'on data', legend_fontsize=6, legend_fontoutline=3, palette={\"0\":\"#E2E2E2\", \"1\":\"#E2E2E2\", \"2\":\"#E2E2E2\", \"3\":\"#E2E2E2\", \"4\":\"#E2E2E2\", \"5\":\"#A366E0\", \"6\":\"#A366E0\", \"7\":\"#A366E0\", \"8\":\"#A366E0\", \"9\":\"#E2E2E2\", \"10\":\"#E2E2E2\", \"11\":\"#E2E2E2\", \"12\":\"#E2E2E2\", \"13\":\"#E2E2E2\", \"14\":\"#A366E0\", \"15\":\"#E2E2E2\", \"16\":\"#E2E2E2\", \"17\":\"#E2E2E2\", \"18\":\"#E2E2E2\",\"19\":\"#E2E2E2\",\"20\":\"#E2E2E2\",\"21\":\"#E2E2E2\",\"22\":\"#A366E0\",\"23\":\"#E2E2E2\",\"24\":\"#E2E2E2\",\"25\":\"#E2E2E2\",\"26\":\"#E2E2E2\",\"27\":\"#E2E2E2\",\"28\":\"#E2E2E2\",\"29\":\"#E2E2E2\",\"30\":\"#E2E2E2\",\"31\":\"#E2E2E2\"}, frameon=False)"
   ]
  },
  {
   "cell_type": "code",
   "execution_count": null,
   "metadata": {},
   "outputs": [],
   "source": [
    "sc.tl.rank_genes_groups(ClytiaMedusa, 'leiden',n_genes=100, method='wilcoxon')\n",
    "sc.tl.rank_genes_groups(ClytiaPlanula, 'leiden',n_genes=100, method='wilcoxon')"
   ]
  },
  {
   "cell_type": "code",
   "execution_count": null,
   "metadata": {},
   "outputs": [],
   "source": [
    "# Marker genes test \n",
    "sc.tl.rank_genes_groups(ClytiaMedusa, 'leiden',n_genes=100, method='wilcoxon')\n",
    "sc.tl.rank_genes_groups(ClytiaPlanula, 'leiden',n_genes=100, method='wilcoxon')\n",
    "sc.tl.rank_genes_groups(HydractiniaPolyp, 'leiden',n_genes=100, method='wilcoxon')\n",
    "sc.tl.rank_genes_groups(HydraPolyp, 'leiden',n_genes=100, method='wilcoxon')\n",
    "sc.tl.rank_genes_groups(XeniaPolyp, 'leiden',n_genes=100, method='wilcoxon')\n",
    "sc.tl.rank_genes_groups(NematostellaPolyp, 'leiden',n_genes=100, method='wilcoxon')\n",
    "sc.tl.rank_genes_groups(NematostellaPlanula, 'leiden',n_genes=100, method='wilcoxon')"
   ]
  },
  {
   "cell_type": "code",
   "execution_count": null,
   "metadata": {},
   "outputs": [],
   "source": [
    "dfClytiaMedusa=sc.get.rank_genes_groups_df(ClytiaMedusa,group=[\"5\",\"6\",\"7\",\"8\",\"14\",\"22\"])\n",
    "dfClytiaPlanula = sc.get.rank_genes_groups_df(ClytiaPlanula,group=[\"5\",\"6\",\"11\",\"12\",\"14\"])\n",
    "dfXeniaPolyp = sc.get.rank_genes_groups_df(XeniaPolyp,group=[\"1\",\"3\",\"4\",\"6\",\"10\",\"14\",\"18\"])\n",
    "dfNematostellaPolyp = sc.get.rank_genes_groups_df(NematostellaPolyp,group=[\"3\",\"4\",\"7\",\"8\",\"9\",\"11\",\"13\",\"21\"])\n",
    "dfNematostellaPlanula = sc.get.rank_genes_groups_df(NematostellaPlanula,group=[\"5\", \"6\", \"7\", \"8\", \"10\", \"21\"])\n",
    "dfHydractiniaPolyp = sc.get.rank_genes_groups_df(HydractiniaPolyp,group=[\"2\", \"10\", \"11\", \"12\", \"14\", \"15\", \"16\", \"18\", \"22\", \"25\"])\n",
    "dfHydraPolyp = sc.get.rank_genes_groups_df(HydraPolyp,group=[\"2\", \"4\", \"7\", \"8\", \"10\", \"13\", \"14\", \"20\", \"21\", \"28\"])"
   ]
  },
  {
   "cell_type": "code",
   "execution_count": null,
   "metadata": {},
   "outputs": [],
   "source": [
    "checkGenes = list(dfClytiaPlanula[dfClytiaPlanula['names'].isin(dfClytiaMedusa['names'])].names)\n",
    "supprIndex = []\n",
    "for i in range(len(checkGenes)):\n",
    "        check = ClytiaPlanula.var[ClytiaPlanula.var_names == checkGenes[i]]\n",
    "        if len(check) == 0:\n",
    "            supprIndex.append(i)\n",
    "checkGenes = [checkGenes[i] for i in range(len(checkGenes)) if i not in supprIndex]\n",
    "intersect = dfClytiaPlanula[dfClytiaPlanula['names'].isin(checkGenes)]\n",
    "print(list(set(intersect.group)))"
   ]
  },
  {
   "cell_type": "code",
   "execution_count": null,
   "metadata": {},
   "outputs": [],
   "source": [
    "def newOrthoList(referenceDf,comparedSp,dfComparedSp,scSp):\n",
    "    with open(\"../Equivalencer/results/basic/RBH/one2one/Clytia_\"+comparedSp+\"_orthologs.csv\",\"rb\") as f:\n",
    "        orthologs = pickle.load(f)\n",
    "    f.close()\n",
    "    refGene = []\n",
    "    for i in referenceDf['names']:\n",
    "        gene = i.replace(\"XLOC_\",\"Clytia|LOC\")\n",
    "        refGene.append(gene)\n",
    "   \n",
    "    extractRefOrtho = []\n",
    "    for i in refGene:\n",
    "        for j in orthologs:\n",
    "            if i in j[1]:\n",
    "                extractRefOrtho.append(j[0])\n",
    "            elif i in j[0]:\n",
    "                extractRefOrtho.append(j[1])\n",
    "    extractRefOrthoCured = []\n",
    "    for i in extractRefOrtho:\n",
    "        gene = i.replace(comparedSp+\"|\",\"\")\n",
    "        extractRefOrthoCured.append(gene)\n",
    "    \n",
    "    supprIndex = []\n",
    "    for i in range(len(extractRefOrthoCured)):\n",
    "        check = scSp.var[scSp.var_names == extractRefOrthoCured[i]]\n",
    "        if len(check) == 0:\n",
    "            supprIndex.append(i)\n",
    "    extractRefOrthoCured = [extractRefOrthoCured[i] for i in range(len(extractRefOrthoCured)) if i not in supprIndex]\n",
    "\n",
    "    #print(dfComparedSp)\n",
    "    intersect = dfComparedSp[dfComparedSp['names'].isin(extractRefOrthoCured)]\n",
    "    #print(list(set(extractRefOrthoCured)))\n",
    "    return intersect\n",
    "        "
   ]
  },
  {
   "cell_type": "code",
   "execution_count": null,
   "metadata": {},
   "outputs": [],
   "source": [
    "res = newOrthoList(dfClytiaMedusa,\"Hydractinia\",dfHydractiniaPolyp,HydractiniaPolyp)\n",
    "print(list(set(res.group)))"
   ]
  },
  {
   "cell_type": "code",
   "execution_count": null,
   "metadata": {},
   "outputs": [],
   "source": [
    "sc.pl.umap(NematostellaPolyp,color=['LOC5509015','LOC5519454','LOC5519454','LOC5507390','LOC5503261','LOC5507390'])"
   ]
  },
  {
   "cell_type": "code",
   "execution_count": null,
   "metadata": {},
   "outputs": [],
   "source": [
    "res=NematostellaPolyp.var[NematostellaPolyp.var_names == 'LOC5519454']\n",
    "print(len(res))"
   ]
  }
 ],
 "metadata": {
  "kernelspec": {
   "display_name": "base",
   "language": "python",
   "name": "python3"
  },
  "language_info": {
   "codemirror_mode": {
    "name": "ipython",
    "version": 3
   },
   "file_extension": ".py",
   "mimetype": "text/x-python",
   "name": "python",
   "nbconvert_exporter": "python",
   "pygments_lexer": "ipython3",
   "version": "3.9.13"
  }
 },
 "nbformat": 4,
 "nbformat_minor": 2
}
